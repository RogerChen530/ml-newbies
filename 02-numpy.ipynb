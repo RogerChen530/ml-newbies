{
 "cells": [
  {
   "cell_type": "markdown",
   "metadata": {},
   "source": [
    "# 數列運算\n",
    "\n",
    "我們先載入這個章節範例程式碼中會使用到的第三方套件、模組或者其中的部分類別、函式。"
   ]
  },
  {
   "cell_type": "code",
   "execution_count": 1,
   "metadata": {},
   "outputs": [],
   "source": [
    "import numpy as np\n",
    "import matplotlib.pyplot as plt"
   ]
  },
  {
   "cell_type": "markdown",
   "metadata": {},
   "source": [
    "## 關於 NumPy\n",
    "\n",
    "NumPy 是 Numerical Python 的縮寫，是 Python 使用者用來實踐向量化（Vectorization）、科學計算與資料科學的套件，也是我們進行「運算數值」的主角，資料科學團隊使用 NumPy 所提供一種稱為 `ndarray` 的資料結構來儲存並運算數值陣列、與標準套件 `random` 相輔相成的 `numpy.random` 來處理隨機性以及 `numpy.linalg` 來處理線性代數中一些繁複的運算。透過 `ndarray` 的數值陣列幾乎能夠面對任意的資料來源，包括實驗資料、圖像（表示像素亮度的二維數值陣列）或者音訊（表示強度與時間軸的一維數值陣列。）\n",
    "熟悉 `ndarray` 的操作對於以 Python 應用資料科學的使用者來說是必要的前提，也扮演著理解機器學習理論的基石，如果能夠自信地操作二維數值陣列（即矩陣 Matrix）以及三維數值陣列（即張量 Tensor），將更容易理解高階機器學習框架究竟在封裝起來的函式、方法中提供了哪些功能給使用者，進而更有效率作超參數的調校。\n",
    "我們可以在執行 Python 的載入指令（`import`）後印出 NumPy 的版本號來確認環境中是否安裝了 NumPy 可供使用。"
   ]
  },
  {
   "cell_type": "code",
   "execution_count": 2,
   "metadata": {},
   "outputs": [
    {
     "name": "stdout",
     "output_type": "stream",
     "text": [
      "1.18.0\n"
     ]
    }
   ],
   "source": [
    "print(np.__version__)"
   ]
  },
  {
   "cell_type": "markdown",
   "metadata": {},
   "source": [
    "假若得到的回應是：\n",
    "\n",
    "```\n",
    "Traceback (most recent call last):\n",
    "  File \"<stdin>\", line 1, in <module>\n",
    "ModuleNotFoundError: No module named 'numpy'\n",
    "```\n",
    "\n",
    "表示目前所處的 Python 環境沒有安裝 NumPy，這時要切換回命令列安裝。\n",
    "\n",
    "```bash\n",
    "# 在命令列執行\n",
    "pip install numpy\n",
    "```"
   ]
  },
  {
   "cell_type": "markdown",
   "metadata": {},
   "source": [
    "## 為何 NumPy\n",
    "\n",
    "模組、套件的開發多半起源於某些痛點，就如同創新產品的問世一般；具體來說，Python 原生 `list` 的什麼特性讓科學計算使用者覺得有些麻煩呢？歸根究底就是 `list` 具備儲存異質資料型態的特性。"
   ]
  },
  {
   "cell_type": "code",
   "execution_count": 3,
   "metadata": {},
   "outputs": [
    {
     "name": "stdout",
     "output_type": "stream",
     "text": [
      "<class 'int'>\n",
      "<class 'float'>\n",
      "<class 'bool'>\n",
      "<class 'bool'>\n",
      "<class 'str'>\n"
     ]
    }
   ],
   "source": [
    "heterogeneous_list = [5566, 55.66, True, False, '5566']\n",
    "for i in heterogeneous_list:\n",
    "    print(type(i))"
   ]
  },
  {
   "cell_type": "markdown",
   "metadata": {},
   "source": [
    "`list` 中每個元素都是一個完整的 Python 物件，具備各自的類別與數值資訊，這使得它在計算同質資料時的效能、語法付出代價，我們需要透過迭代將裡面的物件一一取出後運算。"
   ]
  },
  {
   "cell_type": "code",
   "execution_count": 4,
   "metadata": {},
   "outputs": [
    {
     "data": {
      "text/plain": [
       "[1, 4, 9, 16, 25]"
      ]
     },
     "execution_count": 4,
     "metadata": {},
     "output_type": "execute_result"
    }
   ],
   "source": [
    "homogeneous_list = [1, 2, 3, 4, 5]\n",
    "[i**2 for i in homogeneous_list]"
   ]
  },
  {
   "cell_type": "markdown",
   "metadata": {},
   "source": [
    "NumPy 的 `ndarray` 與 `list` 的最大不同在於同質資料型態的特性，在計算時的效能和語法更快速與簡潔。"
   ]
  },
  {
   "cell_type": "code",
   "execution_count": 5,
   "metadata": {},
   "outputs": [
    {
     "data": {
      "text/plain": [
       "array([ 1,  4,  9, 16, 25])"
      ]
     },
     "execution_count": 5,
     "metadata": {},
     "output_type": "execute_result"
    }
   ],
   "source": [
    "arr = np.array([1, 2, 3, 4, 5])\n",
    "arr**2"
   ]
  },
  {
   "cell_type": "markdown",
   "metadata": {},
   "source": [
    "`ndarray` 在同質數值陣列計算的便利性相較原生 `list` 具有絕對的優勢，接著我們來暸解如何創建 `ndarray` 以及 NumPy 的標準資料型態。"
   ]
  },
  {
   "cell_type": "markdown",
   "metadata": {},
   "source": [
    "## 如何創建 `ndarray`\n",
    "\n",
    "創建 `ndarray` 的方法有二種：一是使用 `np.array()` 將既有的 `list` 轉換成為 `ndarray`。"
   ]
  },
  {
   "cell_type": "code",
   "execution_count": 6,
   "metadata": {},
   "outputs": [
    {
     "data": {
      "text/plain": [
       "list"
      ]
     },
     "execution_count": 6,
     "metadata": {},
     "output_type": "execute_result"
    }
   ],
   "source": [
    "homogeneous_list = [1, 2, 3, 4, 5]\n",
    "type(homogeneous_list)"
   ]
  },
  {
   "cell_type": "code",
   "execution_count": 7,
   "metadata": {},
   "outputs": [
    {
     "name": "stdout",
     "output_type": "stream",
     "text": [
      "<class 'numpy.ndarray'>\n",
      "[1 2 3 4 5]\n",
      "int64\n"
     ]
    }
   ],
   "source": [
    "arr = np.array(homogeneous_list)\n",
    "print(type(arr))\n",
    "print(arr)\n",
    "print(arr.dtype)"
   ]
  },
  {
   "cell_type": "markdown",
   "metadata": {},
   "source": [
    "`np.array()` 可以搭配 `dtype` 參數指定資料型態，可以傳入下列常見的資料型態：\n",
    "\n",
    "- int ：整數型態\n",
    "- float ：浮點數型態\n",
    "- bool ：布林型態"
   ]
  },
  {
   "cell_type": "code",
   "execution_count": 8,
   "metadata": {},
   "outputs": [
    {
     "data": {
      "text/plain": [
       "dtype('int64')"
      ]
     },
     "execution_count": 8,
     "metadata": {},
     "output_type": "execute_result"
    }
   ],
   "source": [
    "homogeneous_list = [1, 2, 3, 4, 5]\n",
    "arr = np.array(homogeneous_list, dtype=int)\n",
    "arr.dtype"
   ]
  },
  {
   "cell_type": "code",
   "execution_count": 9,
   "metadata": {},
   "outputs": [
    {
     "data": {
      "text/plain": [
       "dtype('float64')"
      ]
     },
     "execution_count": 9,
     "metadata": {},
     "output_type": "execute_result"
    }
   ],
   "source": [
    "arr = np.array(homogeneous_list, dtype=float)\n",
    "arr.dtype"
   ]
  },
  {
   "cell_type": "markdown",
   "metadata": {},
   "source": [
    "第二種創建 `ndarray` 的方式是利用 NumPy 的多樣化函式，同樣可以搭配 `dtype` 參數，常用的創建函式有：\n",
    "\n",
    "- `np.zeros(shape)`：創建指定外觀充滿 0 的數值陣列\n",
    "- `np.ones(shape)` ：創建指定外觀充滿 1 的數值陣列\n",
    "- `np.full(shape, fill_value)`：創建指定外觀充滿 fill_value 的數值陣列"
   ]
  },
  {
   "cell_type": "code",
   "execution_count": 10,
   "metadata": {},
   "outputs": [
    {
     "data": {
      "text/plain": [
       "array([0, 0, 0, 0, 0])"
      ]
     },
     "execution_count": 10,
     "metadata": {},
     "output_type": "execute_result"
    }
   ],
   "source": [
    "np.zeros(5, dtype=int) # 外觀為 (5,)"
   ]
  },
  {
   "cell_type": "code",
   "execution_count": 11,
   "metadata": {},
   "outputs": [
    {
     "data": {
      "text/plain": [
       "array([[1., 1.],\n",
       "       [1., 1.]])"
      ]
     },
     "execution_count": 11,
     "metadata": {},
     "output_type": "execute_result"
    }
   ],
   "source": [
    "np.ones((2, 2), dtype=float) # 外觀為 (2, 2)"
   ]
  },
  {
   "cell_type": "code",
   "execution_count": 12,
   "metadata": {},
   "outputs": [
    {
     "data": {
      "text/plain": [
       "array([[5566, 5566],\n",
       "       [5566, 5566]])"
      ]
     },
     "execution_count": 12,
     "metadata": {},
     "output_type": "execute_result"
    }
   ],
   "source": [
    "np.full((2, 2), 5566, dtype=int) # 外觀為 (2, 2)"
   ]
  },
  {
   "cell_type": "markdown",
   "metadata": {},
   "source": [
    "假如需要等差、均勻間隔的數列，則可以使用下列函式：\n",
    "\n",
    "- `np.arange(start, stop, step)`：創建從 `start`（包含）間隔 `step` 至 `stop`（不包含）的等差數列，使用方式同內建函式 `range()`\n",
    "- `np.linspace(start, stop, num)` ：創建從 `start`（包含）至 `stop`（包含）的均勻切割為 `num` 個資料點的數值陣列"
   ]
  },
  {
   "cell_type": "code",
   "execution_count": 13,
   "metadata": {},
   "outputs": [
    {
     "data": {
      "text/plain": [
       "array([1, 3, 5, 7, 9])"
      ]
     },
     "execution_count": 13,
     "metadata": {},
     "output_type": "execute_result"
    }
   ],
   "source": [
    "np.arange(1, 10, 2)"
   ]
  },
  {
   "cell_type": "code",
   "execution_count": 14,
   "metadata": {},
   "outputs": [
    {
     "data": {
      "text/plain": [
       "array([1, 3, 5, 7, 9])"
      ]
     },
     "execution_count": 14,
     "metadata": {},
     "output_type": "execute_result"
    }
   ],
   "source": [
    "np.linspace(1, 9, 5, dtype=int)"
   ]
  },
  {
   "cell_type": "markdown",
   "metadata": {},
   "source": [
    "最後，如果需要隨機數所組合成的數值陣列，則可以使用 `numpy.random` 中的函式：\n",
    "\n",
    "- `np.random.random(size)`：創建指定外觀介於 0, 1 之間、並符合均勻分佈的數值陣列\n",
    "- `np.random.normal(loc, scale, size)`：創建指定外觀以 `loc` 為平均數、`scale` 為標準差常態分佈的數值陣列\n",
    "- `np.random.randint(low, high, size)`：創建指定外觀於 `low` （包含）到 `high`（不包含）之間隨機抽樣之正整數的數值陣列"
   ]
  },
  {
   "cell_type": "code",
   "execution_count": 15,
   "metadata": {},
   "outputs": [
    {
     "name": "stdout",
     "output_type": "stream",
     "text": [
      "[0.07888432 0.85680097 0.59827821 ... 0.57373442 0.51850271 0.92199587]\n",
      "[ 1.2202809  -0.42494108  0.09156555 ... -0.40549757  1.43683747\n",
      " -1.45461075]\n",
      "[1 6 5 5 4 6]\n"
     ]
    }
   ],
   "source": [
    "uniform_arr = np.random.random(10000)\n",
    "normal_arr = np.random.normal(0, 1, 10000)\n",
    "randint_arr = np.random.randint(1, 7, size=6)\n",
    "print(uniform_arr)\n",
    "print(normal_arr)\n",
    "print(randint_arr)"
   ]
  },
  {
   "cell_type": "markdown",
   "metadata": {},
   "source": [
    "這時又可以呼應「為何視覺化」一節中我們提到的，觀察原始資料對於理解其分配特性幾乎沒有幫助，需要仰賴直方圖（histogram）才能挖掘出分配的特徵。截至目前為止我們還沒有開始認識 Matplotlib，但是為了更妥善地說明，在範例程式碼中已經先引用了 Matplotlib 所提供類別或函式，假如讀者目前對這部分感到困惑，可待讀過資料探索等本書後面的章節，再回來複習。"
   ]
  },
  {
   "cell_type": "code",
   "execution_count": 16,
   "metadata": {},
   "outputs": [
    {
     "data": {
      "image/png": "[encoded data removed]",
      "text/plain": [
       "<Figure size 432x288 with 1 Axes>"
      ]
     },
     "metadata": {
      "needs_background": "light"
     },
     "output_type": "display_data"
    }
   ],
   "source": [
    "fig = plt.figure()\n",
    "ax = plt.axes()\n",
    "ax.hist(uniform_arr, bins=30)\n",
    "plt.show()"
   ]
  },
  {
   "cell_type": "code",
   "execution_count": 17,
   "metadata": {},
   "outputs": [
    {
     "data": {
      "image/png": "[encoded data removed]",
      "text/plain": [
       "<Figure size 432x288 with 1 Axes>"
      ]
     },
     "metadata": {
      "needs_background": "light"
     },
     "output_type": "display_data"
    }
   ],
   "source": [
    "fig = plt.figure()\n",
    "ax = plt.axes()\n",
    "ax.hist(normal_arr, bins=30)\n",
    "plt.show()"
   ]
  },
  {
   "cell_type": "markdown",
   "metadata": {},
   "source": [
    "## 常用的 `ndarray` 屬性\n",
    "\n",
    "`ndarray` 較常被用到的屬性有：\n",
    "\n",
    "- `arr.ndim`：檢視 `arr` 有幾個維度\n",
    "- `arr.shape`：檢視 `arr` 的外型\n",
    "- `arr.size`：檢視 `arr` 的資料筆數，對一維陣列的意涵就像內建函式 `len()` 作用在 `list` 上一般\n",
    "- `arr.dtype` ：檢視 `arr` 中同質資料的型態"
   ]
  },
  {
   "cell_type": "code",
   "execution_count": 18,
   "metadata": {},
   "outputs": [
    {
     "name": "stdout",
     "output_type": "stream",
     "text": [
      "1\n",
      "(4,)\n",
      "4\n",
      "int64\n"
     ]
    }
   ],
   "source": [
    "arr = np.array([5, 5, 6, 6])\n",
    "print(arr.ndim)\n",
    "print(arr.shape)\n",
    "print(arr.size)\n",
    "print(arr.dtype)"
   ]
  },
  {
   "cell_type": "markdown",
   "metadata": {},
   "source": [
    "## 純量、向量、矩陣與張量\n",
    "\n",
    "我們會依照不同需求來創建不同維度的數值陣列，而這些不同維度的數值陣列各自專屬的暱稱：\n",
    "\n",
    "- 純量：泛指沒有維度的數值\n",
    "- 向量：泛指具有一個維度的數值陣列，我常喜歡用「吐司條」來比喻讓它更具體些\n",
    "- 矩陣：泛指具有兩個維度的數值陣列，我常喜歡用「一片吐司」來比喻讓它更具體些\n",
    "- 張量：泛指三個維度以及超過三個維度的數值陣列，我常喜歡用「多片吐司」來比喻讓它更具體些\n",
    "\n",
    "![純量、向量、矩陣與張量](02-numpy_18_0.png)\n",
    "\n",
    "圖片來源：<https://dev.to/juancarlospaco/tensors-for-busy-people-315k>"
   ]
  },
  {
   "cell_type": "code",
   "execution_count": 19,
   "metadata": {},
   "outputs": [
    {
     "name": "stdout",
     "output_type": "stream",
     "text": [
      "5566\n",
      "0\n",
      "()\n"
     ]
    }
   ],
   "source": [
    "scalar = np.array(5566)\n",
    "print(scalar)\n",
    "print(scalar.ndim)\n",
    "print(scalar.shape)"
   ]
  },
  {
   "cell_type": "code",
   "execution_count": 20,
   "metadata": {},
   "outputs": [
    {
     "name": "stdout",
     "output_type": "stream",
     "text": [
      "[5 5 6 6]\n",
      "1\n",
      "(4,)\n"
     ]
    }
   ],
   "source": [
    "# 吐司條\n",
    "vector = np.array([5, 5, 6, 6])\n",
    "print(vector)\n",
    "print(vector.ndim)\n",
    "print(vector.shape)"
   ]
  },
  {
   "cell_type": "code",
   "execution_count": 21,
   "metadata": {},
   "outputs": [
    {
     "name": "stdout",
     "output_type": "stream",
     "text": [
      "[[5 5]\n",
      " [6 6]]\n",
      "2\n",
      "(2, 2)\n"
     ]
    }
   ],
   "source": [
    "# 一片 2x2 的吐司\n",
    "matrix = np.array([5, 5, 6, 6]).reshape(2, 2)\n",
    "print(matrix)\n",
    "print(matrix.ndim)\n",
    "print(matrix.shape)"
   ]
  },
  {
   "cell_type": "code",
   "execution_count": 22,
   "metadata": {},
   "outputs": [
    {
     "name": "stdout",
     "output_type": "stream",
     "text": [
      "[[[5 5]\n",
      "  [6 6]]\n",
      "\n",
      " [[5 5]\n",
      "  [6 6]]\n",
      "\n",
      " [[5 5]\n",
      "  [6 6]]]\n",
      "3\n",
      "(3, 2, 2)\n"
     ]
    }
   ],
   "source": [
    "# 三片 2x2 的吐司\n",
    "tensor = np.array([5, 5, 6, 6]*3).reshape(3, 2, 2)\n",
    "print(tensor)\n",
    "print(tensor.ndim)\n",
    "print(tensor.shape)"
   ]
  },
  {
   "cell_type": "markdown",
   "metadata": {},
   "source": [
    "NumPy 有非常豐富的內建函式可以協助我們進行常用的向量與矩陣計算。運用 `np.eye()` 可以創建單位矩陣（Identity matrix），函式命名是取 I 的諧音。"
   ]
  },
  {
   "cell_type": "code",
   "execution_count": 23,
   "metadata": {},
   "outputs": [
    {
     "data": {
      "text/plain": [
       "array([[1, 0],\n",
       "       [0, 1]])"
      ]
     },
     "execution_count": 23,
     "metadata": {},
     "output_type": "execute_result"
    }
   ],
   "source": [
    "I = np.eye(matrix.shape[0], dtype=int)\n",
    "I"
   ]
  },
  {
   "cell_type": "markdown",
   "metadata": {},
   "source": [
    "運用 `np.dot()` 可以進行向量內積與矩陣相乘。"
   ]
  },
  {
   "cell_type": "code",
   "execution_count": 24,
   "metadata": {},
   "outputs": [
    {
     "data": {
      "text/plain": [
       "122"
      ]
     },
     "execution_count": 24,
     "metadata": {},
     "output_type": "execute_result"
    }
   ],
   "source": [
    "np.dot(vector, vector)"
   ]
  },
  {
   "cell_type": "code",
   "execution_count": 25,
   "metadata": {},
   "outputs": [
    {
     "name": "stdout",
     "output_type": "stream",
     "text": [
      "[[5 5]\n",
      " [6 6]]\n",
      "[[5 5]\n",
      " [6 6]]\n"
     ]
    }
   ],
   "source": [
    "print(np.dot(matrix, I))\n",
    "print(np.dot(I, matrix))"
   ]
  },
  {
   "cell_type": "code",
   "execution_count": 26,
   "metadata": {},
   "outputs": [
    {
     "data": {
      "text/plain": [
       "array([[55, 55],\n",
       "       [66, 66]])"
      ]
     },
     "execution_count": 26,
     "metadata": {},
     "output_type": "execute_result"
    }
   ],
   "source": [
    "np.dot(matrix, matrix)"
   ]
  },
  {
   "cell_type": "markdown",
   "metadata": {},
   "source": [
    "運用 `np.transpose()` 或者 `arr.T` 可以進行轉置，將外觀 `(m, n)` 矩陣轉換為 `(n, m)`，列與欄的元素互換。"
   ]
  },
  {
   "cell_type": "code",
   "execution_count": 27,
   "metadata": {},
   "outputs": [
    {
     "name": "stdout",
     "output_type": "stream",
     "text": [
      "[[0 1 2]\n",
      " [3 4 5]]\n",
      "[[0 3]\n",
      " [1 4]\n",
      " [2 5]]\n",
      "[[0 3]\n",
      " [1 4]\n",
      " [2 5]]\n"
     ]
    }
   ],
   "source": [
    "matrix = np.arange(6).reshape(2, 3)\n",
    "print(matrix)\n",
    "print(np.transpose(matrix))\n",
    "print(matrix.T)"
   ]
  },
  {
   "cell_type": "markdown",
   "metadata": {},
   "source": [
    "運用 `np.linalg.inv()` 可以求解反矩陣，反矩陣在矩陣運算中扮演的角色就像「倒數」在四則運算中一般，例如四則運算中我們想要求解 $x$ 會在等號左右兩側都乘 $a$ 的倒數。\n",
    "\n",
    "\\begin{align}\n",
    "ax &= b \\\\\n",
    "\\frac{1}{a}ax &= \\frac{1}{a}b\\\\\n",
    "x &= \\frac{b}{a}\n",
    "\\end{align}\n",
    "\n",
    "如果在矩陣運算中想要求解 $X$，那麼就在等號左右兩側都乘上 $A$ 的反矩陣 $A^{-1}$。\n",
    "\n",
    "\\begin{align}\n",
    "AX &= B \\\\\n",
    "A^{-1}AX &= A^{-1}B \\\\\n",
    "X &= A^{-1}B\n",
    "\\end{align}"
   ]
  },
  {
   "cell_type": "code",
   "execution_count": 28,
   "metadata": {},
   "outputs": [
    {
     "data": {
      "text/plain": [
       "array([[-3., -4.],\n",
       "       [ 4.,  5.]])"
      ]
     },
     "execution_count": 28,
     "metadata": {},
     "output_type": "execute_result"
    }
   ],
   "source": [
    "A = np.array([1, 2, 3, 4]).reshape(2, 2)\n",
    "B = np.array([5, 6, 7, 8]).reshape(2, 2)\n",
    "A_inv = np.linalg.inv(A)\n",
    "X = np.dot(A_inv, B)\n",
    "X"
   ]
  },
  {
   "cell_type": "markdown",
   "metadata": {},
   "source": [
    "## `ndarray` 的索引\n",
    "\n",
    "從 `ndarray` 中取出單個資料值的方式與 `list` 相同，使用 `[INDEX]` 取值，索引值同樣由左至右從 0 算起，由右至左從 -1 算起，在參數命名上稱呼最左邊為起始（start）、最右邊為終止（stop）。"
   ]
  },
  {
   "cell_type": "code",
   "execution_count": 29,
   "metadata": {},
   "outputs": [
    {
     "name": "stdout",
     "output_type": "stream",
     "text": [
      "From start to stop:\n",
      "55\n",
      "66\n",
      "56\n",
      "5566\n",
      "From stop to start:\n",
      "5566\n",
      "56\n",
      "66\n",
      "55\n"
     ]
    }
   ],
   "source": [
    "arr = np.array([55, 66, 56, 5566])\n",
    "print(\"From start to stop:\")\n",
    "print(arr[0])\n",
    "print(arr[1])\n",
    "print(arr[2])\n",
    "print(arr[arr.size - 1])\n",
    "print(\"From stop to start:\")\n",
    "print(arr[-1])\n",
    "print(arr[-2])\n",
    "print(arr[-3])\n",
    "print(arr[-arr.size])"
   ]
  },
  {
   "cell_type": "markdown",
   "metadata": {},
   "source": [
    "面對二維以上的陣列，ndarray 支援使用 `[i, j, ...]` 的方式取出位於第 i 列（row）、第 j 欄（column）...的資料。"
   ]
  },
  {
   "cell_type": "code",
   "execution_count": 30,
   "metadata": {},
   "outputs": [
    {
     "name": "stdout",
     "output_type": "stream",
     "text": [
      "[[7 4 8 5]\n",
      " [7 3 7 8]\n",
      " [5 4 8 8]]\n",
      "3\n",
      "4\n"
     ]
    }
   ],
   "source": [
    "np.random.seed(42)\n",
    "arr = np.random.randint(1, 10, size=(3, 4))\n",
    "print(arr)\n",
    "print(arr[1, 1])  # 3 located at (1, 1)\n",
    "print(arr[2, -3]) # 4 located at (2, -3)"
   ]
  },
  {
   "cell_type": "markdown",
   "metadata": {},
   "source": [
    "## `ndarray` 的切割\n",
    "\n",
    "從 `ndarray` 中取出多個資料值的方式與 `list` 相同，使用 `[start:stop:step]` 取出陣列的片段，如果沒有指定 `start` 預設值 0、 `stop` 預設值 `arr.size` 意即最右邊、 `step` 預設值 1；有趣的設定是當 `step` 為 -1 時候的效果為反轉數列。"
   ]
  },
  {
   "cell_type": "code",
   "execution_count": 31,
   "metadata": {},
   "outputs": [
    {
     "name": "stdout",
     "output_type": "stream",
     "text": [
      "[10 11 12 13 14 15 16 17 18 19]\n",
      "[10 12 14 16 18]\n",
      "[10 11 12 13 14]\n",
      "[15 16 17 18 19]\n",
      "[19 18 17 16 15 14 13 12 11 10]\n"
     ]
    }
   ],
   "source": [
    "arr = np.arange(10, 20)\n",
    "print(arr[::])   # 三個參數都預設值\n",
    "print(arr[::2])  # step=2\n",
    "print(arr[:5])   # stop=5, 不包含\n",
    "print(arr[5:])   # start=5, 包含\n",
    "print(arr[::-1]) # step=-1, 反轉"
   ]
  },
  {
   "cell_type": "markdown",
   "metadata": {},
   "source": [
    "## `ndarray` 特別的索引\n",
    "\n",
    "除了與 `list` 相同支援 `[INDEX]` 與 `[start:stop:step]` 的索引、切割方式，`ndarray` 額外支援兩種資料科學家熱愛的索引寫法：\n",
    "\n",
    "- 華麗索引（Fancy Indexing）\n",
    "- 布林索引（Boolean Indexing）\n",
    "\n",
    "華麗索引（Fancy Indexing）指的是以陣列傳入不規則的索引值選取資料值，不用遷就 `[start:stop:step]` 所生成的規則索引陣列。"
   ]
  },
  {
   "cell_type": "code",
   "execution_count": 32,
   "metadata": {},
   "outputs": [
    {
     "name": "stdout",
     "output_type": "stream",
     "text": [
      "[45 48 65 68 68 10 84 22 37 88]\n",
      "[45 65 37]\n"
     ]
    }
   ],
   "source": [
    "np.random.seed(0)\n",
    "arr = np.random.randint(1, 100, size=(10,))\n",
    "odd_indices = [0, 2, 8]\n",
    "print(arr)\n",
    "print(arr[odd_indices])"
   ]
  },
  {
   "cell_type": "markdown",
   "metadata": {},
   "source": [
    "布林索引（Boolean Indexing）指的是以外觀相同的陣列傳入布林值，將位置為 True 的資料篩選出來。"
   ]
  },
  {
   "cell_type": "code",
   "execution_count": 33,
   "metadata": {},
   "outputs": [
    {
     "name": "stdout",
     "output_type": "stream",
     "text": [
      "[45 48 65 68 68 10 84 22 37 88]\n",
      "[45 65 37]\n"
     ]
    }
   ],
   "source": [
    "is_odd = [True, False, True, False, False, False, False, False, True, False]\n",
    "print(arr)\n",
    "print(arr[is_odd])"
   ]
  },
  {
   "cell_type": "markdown",
   "metadata": {},
   "source": [
    "其中外觀相同的布林值陣列 `is_odd` 因為能透過 `ndarray` 的向量化特性搭配判斷條件輕鬆產生，因此這通常是資料科學家最喜歡使用的切割、篩選方式。"
   ]
  },
  {
   "cell_type": "code",
   "execution_count": 34,
   "metadata": {},
   "outputs": [
    {
     "name": "stdout",
     "output_type": "stream",
     "text": [
      "[ True False  True False False False False False  True False]\n",
      "[45 48 65 68 68 10 84 22 37 88]\n",
      "[45 65 37]\n"
     ]
    }
   ],
   "source": [
    "is_odd = arr % 2 == 1\n",
    "print(is_odd)\n",
    "print(arr)\n",
    "print(arr[is_odd])"
   ]
  },
  {
   "cell_type": "markdown",
   "metadata": {},
   "source": [
    "## 重塑外觀\n",
    "\n",
    "並不是所有創建 `ndarray` 的函式都可以指定外觀 (m, n, ...)，這時我們需要在初始化之後調整其外觀，常用方法有：\n",
    "\n",
    "- `reshape(m, n, ...)`\n",
    "- `ravel()`\n",
    "\n",
    "運用方法 `arr.reshape(m, n, ...)` 將數值陣列 `arr` 重塑成運算所需要的外觀。"
   ]
  },
  {
   "cell_type": "code",
   "execution_count": 35,
   "metadata": {},
   "outputs": [
    {
     "name": "stdout",
     "output_type": "stream",
     "text": [
      "[1 2 3 4 5 6 7 8 9]\n",
      "(9,)\n",
      "[[1 2 3]\n",
      " [4 5 6]\n",
      " [7 8 9]]\n",
      "(3, 3)\n"
     ]
    }
   ],
   "source": [
    "arr = np.arange(1, 10)\n",
    "print(arr)\n",
    "print(arr.shape)\n",
    "print(arr.reshape(3, 3))\n",
    "print(arr.reshape(3, 3).shape)"
   ]
  },
  {
   "cell_type": "markdown",
   "metadata": {},
   "source": [
    "重塑時需要指定 (m, n, ...) 外觀，更便捷的寫法是將其餘 `ndim — 1` 個維度指定好，再傳最後一個維度是 -1，`ndarray` 會自行計算最後一個維度的值；例如將長度為 9 的數值陣列 `arr` 重塑成 (3, 3) 外觀時可以寫作 `arr.reshape(3, -1)` 或者 `arr.reshape(-1, 3)`。"
   ]
  },
  {
   "cell_type": "code",
   "execution_count": 36,
   "metadata": {},
   "outputs": [
    {
     "name": "stdout",
     "output_type": "stream",
     "text": [
      "[[1 2 3]\n",
      " [4 5 6]\n",
      " [7 8 9]]\n",
      "[[1 2 3]\n",
      " [4 5 6]\n",
      " [7 8 9]]\n"
     ]
    }
   ],
   "source": [
    "arr = np.arange(1, 10)\n",
    "print(arr.reshape(3, -1))\n",
    "print(arr.reshape(-1, 3))"
   ]
  },
  {
   "cell_type": "markdown",
   "metadata": {},
   "source": [
    "在矩陣相乘運算的應用場景中，我們常需要將一維的數值陣列重塑成二維的欄（尚未轉置的向量 $v$）或者二維的列（已轉置的向量 $v^T$），這時就可以善用 `arr.reshape(1, -1)` 或 `arr.reshape(-1, 1)`。"
   ]
  },
  {
   "cell_type": "code",
   "execution_count": 37,
   "metadata": {},
   "outputs": [
    {
     "name": "stdout",
     "output_type": "stream",
     "text": [
      "[[1]\n",
      " [2]\n",
      " [3]]\n",
      "[[1 2 3]]\n"
     ]
    }
   ],
   "source": [
    "arr = np.arange(1, 4)\n",
    "print(arr.reshape(-1, 1)) # 重塑成二維的欄\n",
    "print(arr.reshape(1, -1)) # 重塑成二維的列"
   ]
  },
  {
   "cell_type": "markdown",
   "metadata": {},
   "source": [
    "運用方法 `ravel()` 可以將外觀為 (m, n, ...) 的數值陣列調整回一維。"
   ]
  },
  {
   "cell_type": "code",
   "execution_count": 38,
   "metadata": {},
   "outputs": [
    {
     "name": "stdout",
     "output_type": "stream",
     "text": [
      "(3, 3)\n",
      "2\n",
      "(9,)\n",
      "1\n"
     ]
    }
   ],
   "source": [
    "arr = np.arange(1, 10).reshape(3, 3)\n",
    "print(arr.shape)\n",
    "print(arr.ndim)\n",
    "print(arr.ravel().shape)\n",
    "print(arr.ravel().ndim)"
   ]
  },
  {
   "cell_type": "markdown",
   "metadata": {},
   "source": [
    "## 複製陣列\n",
    "\n",
    "`ndarray` 有一個重要的預設特性為「不複製」，不論在切割或重新宣告的情境中都是創建陣列的 View，而非複製另一個陣列，這代表著對以 View 存在的子陣列（Sub-array）更新會改動到原始陣列。例如將 `arr` 的 View `mat` 之中的 5 更新為 5566，會一併更新 `arr` 的 5 為 5566。"
   ]
  },
  {
   "cell_type": "code",
   "execution_count": 39,
   "metadata": {},
   "outputs": [
    {
     "name": "stdout",
     "output_type": "stream",
     "text": [
      "[[   1    2    3]\n",
      " [   4 5566    6]\n",
      " [   7    8    9]]\n",
      "[   1    2    3    4 5566    6    7    8    9]\n"
     ]
    }
   ],
   "source": [
    "arr = np.arange(1, 10)\n",
    "mat = arr.reshape(3, 3)\n",
    "mat[1, 1] = 5566\n",
    "print(mat)\n",
    "print(arr)"
   ]
  },
  {
   "cell_type": "markdown",
   "metadata": {},
   "source": [
    "我們若希望實踐陣列的複製，可以運用其 `copy()` 方法，如此一來 `mat` 之中的 5 更新為 5566，並不會影響到 `arr` 中的 5。"
   ]
  },
  {
   "cell_type": "code",
   "execution_count": 40,
   "metadata": {},
   "outputs": [
    {
     "name": "stdout",
     "output_type": "stream",
     "text": [
      "[[   1    2    3]\n",
      " [   4 5566    6]\n",
      " [   7    8    9]]\n",
      "[1 2 3 4 5 6 7 8 9]\n"
     ]
    }
   ],
   "source": [
    "arr = np.arange(1, 10)\n",
    "mat = arr.copy()\n",
    "mat = mat.reshape(3, 3)\n",
    "mat[1, 1] = 5566\n",
    "print(mat)\n",
    "print(arr)"
   ]
  },
  {
   "cell_type": "markdown",
   "metadata": {},
   "source": [
    "## 合併陣列\n",
    "\n",
    "很多 NumPy 的函式都有提供 `axis` 參數能夠讓使用者在進行這些操作時能夠輕鬆地應用在列（row）或欄（column）等不同維度上，暸解 `axis` 參數可以有效幫助使用者處理陣列，我們能夠運用 `np.concatenate([arr0, arr1, ...], axis)` 將多個陣列依照 `axis` 參數的方向進行合併，當 `axis` 為預設值 0 的時候效果為垂直合併、當 `axis=1` 的時候效果為水平合併。"
   ]
  },
  {
   "cell_type": "code",
   "execution_count": 41,
   "metadata": {},
   "outputs": [
    {
     "name": "stdout",
     "output_type": "stream",
     "text": [
      "[[1 2]\n",
      " [3 4]\n",
      " [5 6]\n",
      " [7 8]]\n",
      "[[1 2 5 6]\n",
      " [3 4 7 8]]\n"
     ]
    }
   ],
   "source": [
    "arr_a = np.arange(1, 5).reshape(2, 2)\n",
    "arr_b = np.arange(5, 9).reshape(2, 2)\n",
    "print(np.concatenate([arr_a, arr_b]))         # 預設 axis=0\n",
    "print(np.concatenate([arr_a, arr_b], axis=1)) # axis=1"
   ]
  },
  {
   "cell_type": "markdown",
   "metadata": {},
   "source": [
    "## 通用函式\n",
    "\n",
    "NumPy 之所以被譽為 Python 資料科學應用的基石，就是因為能透過通用函式（Universal function）實踐其他科學計算語言內建的向量化（Vectorization）功能，通用函式的作用是針對數值陣列中每個數值進行相同的運算，效率會高於使用迭代語法。我們可以在 Jupyter Notebook 中使用 `%timeit` 得知若想以迭代對一百萬筆隨機整數進行「倒數」的運算要花多少時間。"
   ]
  },
  {
   "cell_type": "code",
   "execution_count": 42,
   "metadata": {},
   "outputs": [
    {
     "name": "stdout",
     "output_type": "stream",
     "text": [
      "416 ms ± 49.5 ms per loop (mean ± std. dev. of 7 runs, 1 loop each)\n"
     ]
    }
   ],
   "source": [
    "long_arr = np.random.randint(1, 101, size=1000000)\n",
    "%timeit [1/i for i in long_arr]"
   ]
  },
  {
   "cell_type": "markdown",
   "metadata": {},
   "source": [
    "較為緩慢的原因是在每次迭代計算倒數時，Python 首先檢查物件類型再呼叫用於該類型的正確運算（在這個例子中為倒數運算）。而使用 `ndarray` 的通用函式，就像是利用已經編譯過的程式並且對固定物件類型計算，無需再檢查，運算的效率較高。"
   ]
  },
  {
   "cell_type": "code",
   "execution_count": 43,
   "metadata": {},
   "outputs": [
    {
     "name": "stdout",
     "output_type": "stream",
     "text": [
      "1.61 ms ± 256 µs per loop (mean ± std. dev. of 7 runs, 1000 loops each)\n"
     ]
    }
   ],
   "source": [
    "long_arr = np.random.randint(1, 101, size=1000000)\n",
    "%timeit np.divide(1, long_arr)"
   ]
  },
  {
   "cell_type": "markdown",
   "metadata": {},
   "source": [
    "基礎的通用函式與純量的數值運算符不謀而合，可依使用者的喜好選擇通用函式或者運算符：\n",
    "\n",
    "- `np.add()`：同 `+` 運算符\n",
    "- `np.subtract()`：同 `-` 運算符\n",
    "- `np.multiply()`：同 `*` 運算符\n",
    "- `np.divide()`：同 `/` 運算符\n",
    "- `np.power()`：同 `**` 運算符\n",
    "- `np.floor_divide()`：同 `//` 運算符\n",
    "- `np.mod()`：同 `%` 運算符"
   ]
  },
  {
   "cell_type": "code",
   "execution_count": 44,
   "metadata": {},
   "outputs": [
    {
     "name": "stdout",
     "output_type": "stream",
     "text": [
      "[0 1 2 3 4 5 6 7 8]\n",
      "[ 0  1  4  9 16 25 36 49 64]\n",
      "[ 0  1  4  9 16 25 36 49 64]\n"
     ]
    }
   ],
   "source": [
    "# 以 np.power 作為一個簡單示範\n",
    "arr = np.arange(9)\n",
    "print(arr)\n",
    "print(arr**2)\n",
    "print(np.power(arr, 2))"
   ]
  },
  {
   "cell_type": "markdown",
   "metadata": {},
   "source": [
    "假如希望對數值陣列應用之通用函式是為自己的需求量身訂製，這時可以定義後以 `np.vectorize()` 轉換為一個通用函式，例如可以判斷一個輸入是否為質數，我們想轉換成通用函式藉此判斷數值陣列中哪些為質數。"
   ]
  },
  {
   "cell_type": "code",
   "execution_count": 45,
   "metadata": {},
   "outputs": [
    {
     "name": "stdout",
     "output_type": "stream",
     "text": [
      "是否為質數：\n",
      "[False  True  True False  True False  True False False False  True]\n"
     ]
    }
   ],
   "source": [
    "def is_prime(x):\n",
    "    div_cnt = 0\n",
    "    for i in range(1, x+1):\n",
    "        if x % i == 0:\n",
    "            div_cnt += 1\n",
    "        if div_cnt > 2:\n",
    "            break\n",
    "    return div_cnt == 2\n",
    "\n",
    "is_prime_ufunc = np.vectorize(is_prime)\n",
    "arr = np.arange(1, 12)\n",
    "print(\"是否為質數：\")\n",
    "print(is_prime_ufunc(arr))"
   ]
  },
  {
   "cell_type": "markdown",
   "metadata": {},
   "source": [
    "## 聚合函式\n",
    "\n",
    "面對一筆陌生的數值資料，資料科學家會採取描述性統計探索這筆資料，例如平均值、標準差、總和、中位數、最小值、最大值、眾數或分位數等，能夠將長度超過 1 的數值陣列匯總為一個或少數幾個摘要統計指標，被泛稱為聚合函式（Aggregate functions）。通用與聚合函式最大的差異就在於輸入與輸出的數值陣列長度，不同於通用函式，聚合函式所輸出的數值陣列多數僅有長度 1，或遠小於輸入數值陣列的長度。\n",
    "基礎的 NumPy 聚合函式可以應用於獲得數值陣列的各種描述性統計，我們不需要一一詳細討論如何使用，只需要注意兩個特性：\n",
    "\n",
    "1. 能沿指定維度聚合\n",
    "2. 多數具有可運算遺漏值的相對應函式\n",
    "\n",
    "「能沿指定維度聚合」的特性意指在面對具有多個維度的數值陣列時，可以指定應用在某一個維度，舉例來說面對有兩個維度 (m, n) 的矩陣時可以單純應用 `np.sum()` 將整個矩陣中的數值加總，將得到一個輸出；如果指定 `axis=0` 則是將矩陣中的每欄（column）分別加總，將得到 n 個輸出、指定 `axis=1` 則是將矩陣中的每列（row）分別加總，將得到 m 個輸出。"
   ]
  },
  {
   "cell_type": "code",
   "execution_count": 46,
   "metadata": {},
   "outputs": [
    {
     "name": "stdout",
     "output_type": "stream",
     "text": [
      "120\n",
      "[18 21 24 27 30]\n",
      "[15 40 65]\n"
     ]
    }
   ],
   "source": [
    "mat = np.arange(1, 16).reshape(3, 5)\n",
    "print(np.sum(mat))         # 1 個輸出\n",
    "print(np.sum(mat, axis=0)) # 5 個輸出\n",
    "print(np.sum(mat, axis=1)) # 3 個輸出"
   ]
  },
  {
   "cell_type": "markdown",
   "metadata": {},
   "source": [
    "「多數具有可運算遺漏值的相對應函式」的特性意指在面對具有 `np.NaN` 遺漏值的陣列時，原型聚合函式會回傳 `np.NaN`，這時可以採用相對應之可計算遺漏值函式運算，將會忽略 `np.NaN` ，傳回其餘數值的摘要。"
   ]
  },
  {
   "cell_type": "code",
   "execution_count": 47,
   "metadata": {},
   "outputs": [
    {
     "name": "stdout",
     "output_type": "stream",
     "text": [
      "[ 1.  2.  3.  4.  5.  6.  7.  8.  9. 10. 11. 12. 13. 14. nan]\n",
      "nan\n",
      "105.0\n"
     ]
    }
   ],
   "source": [
    "arr = np.arange(1, 16, dtype=float)\n",
    "arr[-1] = np.NaN\n",
    "print(arr)\n",
    "print(np.sum(arr))\n",
    "print(np.nansum(arr))"
   ]
  },
  {
   "cell_type": "markdown",
   "metadata": {},
   "source": [
    "常用聚合函式與 nan 對應有：\n",
    "\n",
    "- `np.sum()` 與 `np.nansum()`\n",
    "- `np.prod()` 與 `np.nanprod()`\n",
    "- `np.mean()` 與 `np.nanmean()`\n",
    "- `np.median()` 與 `np.nanmedian()`\n",
    "- `np.std()` 與 `np.nanstd()`\n",
    "- `np.var()` 與 `np.nanvar()`\n",
    "- `np.min()` 與 `np.nanmin()`\n",
    "- `np.max()` 與 `np.nanmax()`\n",
    "- `np.argmin()` 與 `np.nanargmin()`\n",
    "- `np.argmax()` 與 `np.nanargmax()`\n",
    "\n",
    "我們創建一個外觀 `(10, 2)` 的矩陣來示範其中一個聚合函式 `np.argmax()` 的使用方法。"
   ]
  },
  {
   "cell_type": "code",
   "execution_count": 48,
   "metadata": {},
   "outputs": [
    {
     "data": {
      "text/plain": [
       "array([[0.37454012, 0.62545988],\n",
       "       [0.95071431, 0.04928569],\n",
       "       [0.73199394, 0.26800606],\n",
       "       [0.59865848, 0.40134152],\n",
       "       [0.15601864, 0.84398136],\n",
       "       [0.15599452, 0.84400548],\n",
       "       [0.05808361, 0.94191639],\n",
       "       [0.86617615, 0.13382385],\n",
       "       [0.60111501, 0.39888499],\n",
       "       [0.70807258, 0.29192742]])"
      ]
     },
     "execution_count": 48,
     "metadata": {},
     "output_type": "execute_result"
    }
   ],
   "source": [
    "np.random.seed(42)\n",
    "arr_0 = np.random.random((10, 1))\n",
    "arr_1 = 1 - arr_0\n",
    "arr = np.concatenate([arr_0, arr_1], axis=1)\n",
    "arr"
   ]
  },
  {
   "cell_type": "code",
   "execution_count": 49,
   "metadata": {},
   "outputs": [
    {
     "data": {
      "text/plain": [
       "array([1, 6])"
      ]
     },
     "execution_count": 49,
     "metadata": {},
     "output_type": "execute_result"
    }
   ],
   "source": [
    "np.argmax(arr, axis=0) # 矩陣中的每欄最大值所處的列數"
   ]
  },
  {
   "cell_type": "code",
   "execution_count": 50,
   "metadata": {},
   "outputs": [
    {
     "data": {
      "text/plain": [
       "array([1, 0, 0, 0, 1, 1, 1, 0, 0, 0])"
      ]
     },
     "execution_count": 50,
     "metadata": {},
     "output_type": "execute_result"
    }
   ],
   "source": [
    "np.argmax(arr, axis=1) # 矩陣中的每列最大值所處的欄數"
   ]
  },
  {
   "cell_type": "markdown",
   "metadata": {},
   "source": [
    "## 延伸閱讀\n",
    "\n",
    "1. NumPy: Learn (https://numpy.org/learn/)\n",
    "2. Introduction to NumPy. In: Jake VanderPlas, Python Data Science Handbook (https://jakevdp.github.io/PythonDataScienceHandbook/02.00-introduction-to-numpy.html) "
   ]
  }
 ],
 "metadata": {
  "kernelspec": {
   "display_name": "Python Machine Learning",
   "language": "python",
   "name": "pyml"
  },
  "language_info": {
   "codemirror_mode": {
    "name": "ipython",
    "version": 3
   },
   "file_extension": ".py",
   "mimetype": "text/x-python",
   "name": "python",
   "nbconvert_exporter": "python",
   "pygments_lexer": "ipython3",
   "version": "3.6.8"
  }
 },
 "nbformat": 4,
 "nbformat_minor": 4
}
