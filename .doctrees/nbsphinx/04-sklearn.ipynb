{
 "cells": [
  {
   "cell_type": "markdown",
   "metadata": {},
   "source": [
    "# 機器學習入門\n",
    "\n",
    "我們先載入這個章節範例程式碼中會使用到的第三方套件、模組或者其中的部分類別、函式。"
   ]
  },
  {
   "cell_type": "code",
   "execution_count": 1,
   "metadata": {},
   "outputs": [],
   "source": [
    "from pyvizml import CreateNBAData\n",
    "import numpy as np\n",
    "import requests\n",
    "import pandas as pd\n",
    "from sklearn.linear_model import LinearRegression\n",
    "from sklearn.model_selection import train_test_split\n",
    "from sklearn.pipeline import Pipeline\n",
    "from sklearn.datasets import load_boston\n",
    "from sklearn.datasets import fetch_california_housing\n",
    "from sklearn.datasets import make_classification\n",
    "from sklearn.preprocessing import PolynomialFeatures\n",
    "from sklearn.preprocessing import MinMaxScaler\n",
    "from sklearn.preprocessing import StandardScaler"
   ]
  },
  {
   "cell_type": "markdown",
   "metadata": {},
   "source": [
    "## 關於 Scikit-Learn\n",
    "\n",
    "Scikit-Learn 是 Python 使用者入門機器學習的一個高階、設計成熟且友善的套件模組，其建構於 NumPy、SciPy 與 Matplotlib，是開源並可作為商業使用的套件模組，主要的撰寫程式語言是 Python，並在其中廣泛使用 NumPy 進行線性代數、陣列運算。此外，也有運用 Cython 撰寫了部分核心演算法提高運算的效能。Scikit-learn 與我們已經介紹過的套件模組諸如 NumPy 以及 Matplotlib 能夠產生非常良好的綜效，其應用場景可以被簡單分類為：\n",
    "\n",
    "- 預處理（Preprocessing）\n",
    "- 監督式學習（Supervised learning）\n",
    "    - 分類（Classification）\n",
    "    - 迴歸（Regression）\n",
    "- 非監督式學習（Unsupervised learning）\n",
    "    - 分群（Clustering）\n",
    "    - 降維（Dimensionality reduction）\n",
    "- 模型選擇（Model selection）\n",
    "\n",
    "預處理的功能呼應了資料科學專案中的整併以及轉換；監督式學習、非監督式學習與模型選擇的功能則呼應了專案中的預測。"
   ]
  },
  {
   "cell_type": "markdown",
   "metadata": {},
   "source": [
    "## 為何 Scikit-Learn\n",
    "\n",
    "Scikit-Learn 設計對於使用者非常友善，在開發上圍繞著五個核心理念打造：\n",
    "\n",
    "- 一致性（Consistency）\n",
    "- 檢查性（Inspection）\n",
    "- 不自行創建類別（Nonproliferation of classes）\n",
    "- 模組化（Composition）\n",
    "- 提供合理的預設參數（Sensible defaults）\n",
    "\n",
    "其中，一致性指的是 Scikit-Learn 定義的類別都具有相同的 API 介面，像是進行資料預處理的轉換器（Transformer）都具備 `fit_transform()` 方法；進行資料預測的預測器（Predictor）都具備 `fit()` 與 `predict()` 方法；檢查性指的是 Scikit-Learn 定義的類別所依據的參數、結果都可以透過屬性擷取出來檢視；不自行創建類別指的是輸入與輸出的資料型態或結構，多數都以內建資料與 `ndarray` 來處理；模組化指的是同為 Scikit-Learn 的類別可以進行組裝，像是將轉換器與預測器組裝成為一個稱為管線（`Pipeline`）的類別；提供合理的預設參數指的是在初始化轉換器與預測器時，都會使用一組預設參數作為初始化的依據，而這些依據通常是多數使用者習慣的參數設計或基本標竿。"
   ]
  },
  {
   "cell_type": "markdown",
   "metadata": {},
   "source": [
    "## 五個核心理念\n",
    "\n",
    "我們使用 NBA 球員的範例資料來演繹 Scikit-Learn 的五個核心理念。"
   ]
  },
  {
   "cell_type": "code",
   "execution_count": 2,
   "metadata": {},
   "outputs": [
    {
     "name": "stdout",
     "output_type": "stream",
     "text": [
      "Creating players df...\n"
     ]
    }
   ],
   "source": [
    "cnb = CreateNBAData(2019)\n",
    "players = cnb.create_players_df()\n",
    "X = players['heightMeters'].values.reshape(-1, 1)\n",
    "y = players['weightKilograms'].values\n",
    "X_train, X_valid, y_train, y_valid = train_test_split(X, y, test_size=0.33, random_state=42)"
   ]
  },
  {
   "cell_type": "markdown",
   "metadata": {},
   "source": [
    "### 提供合理的預設參數\n",
    "\n",
    "初始化 `ss` 轉換器與 `lr` 預測器時可以選擇採用預設參數。"
   ]
  },
  {
   "cell_type": "code",
   "execution_count": 3,
   "metadata": {},
   "outputs": [],
   "source": [
    "ss = StandardScaler()\n",
    "lr = LinearRegression()"
   ]
  },
  {
   "cell_type": "markdown",
   "metadata": {},
   "source": [
    "### 模組化\n",
    "\n",
    "可以將 `ss` 轉換器與 `lr` 預測器組裝起來成為一個管線（Pipeline）類別。"
   ]
  },
  {
   "cell_type": "code",
   "execution_count": 4,
   "metadata": {},
   "outputs": [
    {
     "data": {
      "text/plain": [
       "sklearn.pipeline.Pipeline"
      ]
     },
     "execution_count": 4,
     "metadata": {},
     "output_type": "execute_result"
    }
   ],
   "source": [
    "pipeline = Pipeline([('scaler', ss), ('lr', lr)])\n",
    "type(pipeline)"
   ]
  },
  {
   "cell_type": "markdown",
   "metadata": {},
   "source": [
    "### 一致性\n",
    "\n",
    "包含預測器的管線類別具有 `fit` 與 `predict` 方法。"
   ]
  },
  {
   "cell_type": "code",
   "execution_count": 5,
   "metadata": {},
   "outputs": [],
   "source": [
    "pipeline.fit(X_train, y_train)\n",
    "y_pred = pipeline.predict(X_valid)"
   ]
  },
  {
   "cell_type": "markdown",
   "metadata": {},
   "source": [
    "### 檢查性\n",
    "\n",
    "在訓練完成之後，可以 `intercept_` 屬性提取常數項、以 `coef_` 屬性提取係數項觀察。"
   ]
  },
  {
   "cell_type": "code",
   "execution_count": 6,
   "metadata": {},
   "outputs": [
    {
     "name": "stdout",
     "output_type": "stream",
     "text": [
      "98.44183976261127\n",
      "[8.93801801]\n"
     ]
    }
   ],
   "source": [
    "print(lr.intercept_)\n",
    "print(lr.coef_)"
   ]
  },
  {
   "cell_type": "markdown",
   "metadata": {},
   "source": [
    "### 不自行創建類別\n",
    "\n",
    "`lr` 在訓練完成之後，其 `intercept_` 屬性是 `np.float64`、 `coef_` 屬性則是 `ndarray`。"
   ]
  },
  {
   "cell_type": "code",
   "execution_count": 7,
   "metadata": {},
   "outputs": [
    {
     "name": "stdout",
     "output_type": "stream",
     "text": [
      "<class 'numpy.float64'>\n",
      "<class 'numpy.ndarray'>\n"
     ]
    }
   ],
   "source": [
    "print(type(lr.intercept_))\n",
    "print(type(lr.coef_))"
   ]
  },
  {
   "cell_type": "markdown",
   "metadata": {},
   "source": [
    "## 機器學習的資料表達\n",
    "\n",
    "機器學習的資料表達意象有兩個分類：特徵矩陣（Feature matrix）與目標向量（Target vector），特徵矩陣是二維的數值陣列，外型為 `(m, n)`，意指有 `m` 個觀測值、每個觀測值具有 `n` 個特徵，慣常以 $X$ 做為標註；目標向量是一維的數值陣列，外型為 `(m,)`，意指有 `m` 個觀測值，慣常以 $y$ 作為標註。\n",
    "\n",
    "舉例來說，前述範例中的 `players` 資料框外觀是："
   ]
  },
  {
   "cell_type": "code",
   "execution_count": 8,
   "metadata": {},
   "outputs": [
    {
     "data": {
      "text/plain": [
       "(503, 20)"
      ]
     },
     "execution_count": 8,
     "metadata": {},
     "output_type": "execute_result"
    }
   ],
   "source": [
    "players.shape"
   ]
  },
  {
   "cell_type": "markdown",
   "metadata": {},
   "source": [
    "假如我們改以身高（呎）與身高（吋）做為預測體重（磅）的依據："
   ]
  },
  {
   "cell_type": "code",
   "execution_count": 9,
   "metadata": {},
   "outputs": [],
   "source": [
    "X = players[['heightFeet', 'heightInches']].values.astype(float)\n",
    "y = players['weightPounds'].values.astype(float)"
   ]
  },
  {
   "cell_type": "markdown",
   "metadata": {},
   "source": [
    "特徵矩陣與目標向量的維度數及其外觀就分別為："
   ]
  },
  {
   "cell_type": "code",
   "execution_count": 10,
   "metadata": {},
   "outputs": [
    {
     "name": "stdout",
     "output_type": "stream",
     "text": [
      "2\n",
      "(503, 2)\n"
     ]
    }
   ],
   "source": [
    "# 特徵矩陣\n",
    "print(X.ndim)\n",
    "print(X.shape)"
   ]
  },
  {
   "cell_type": "code",
   "execution_count": 11,
   "metadata": {},
   "outputs": [
    {
     "name": "stdout",
     "output_type": "stream",
     "text": [
      "1\n",
      "(503,)\n"
     ]
    }
   ],
   "source": [
    "# 目標向量\n",
    "print(y.ndim)\n",
    "print(y.shape)"
   ]
  },
  {
   "cell_type": "markdown",
   "metadata": {},
   "source": [
    "## Scikit-Learn 的支援場景\n",
    "\n",
    "一個資料科學專案中包含有資料的獲取、整併、轉換、探索、預測以及溝通等環節，而 Scikit-Learn 能夠支援資料獲取、轉換與預測這三個主要應用場景，針對這些階段以包裝妥善的函式、自定義類別來協助使用者。\n",
    "\n",
    "在資料獲取的環節，`sklearn.datasets` 提供三種介面讓讓使用者可以載入玩具資料集、現實世界資料集與生成資料集：\n",
    "\n",
    "- `load_dataset()`\n",
    "- `fetch_dataset()`\n",
    "- `make_dataset()`\n",
    "\n",
    "一如「機器學習的資料表達」所述，資料獲取功能所回傳的特徵矩陣 $X$ 符合 `(m, n)` 外觀、目標向量 $y$ 符合 `(m,)` 外觀；其中在載入玩具資料集與現實世界資料集中，Scikit-Learn 預設是以 `bunch` 這樣類似 `dict` 的資料結構回傳，指定參數 `return_X_y=True` 能夠直接獲得 $X$ 與 $y$。"
   ]
  },
  {
   "cell_type": "code",
   "execution_count": 12,
   "metadata": {},
   "outputs": [
    {
     "name": "stdout",
     "output_type": "stream",
     "text": [
      "(506, 13)\n",
      "(506,)\n"
     ]
    }
   ],
   "source": [
    "# 載入玩具資料集\n",
    "X, y = load_boston(return_X_y=True)\n",
    "print(X.shape)\n",
    "print(y.shape)"
   ]
  },
  {
   "cell_type": "code",
   "execution_count": 13,
   "metadata": {},
   "outputs": [
    {
     "name": "stdout",
     "output_type": "stream",
     "text": [
      "(20640, 8)\n",
      "(20640,)\n"
     ]
    }
   ],
   "source": [
    "# 載入現實世界資料集\n",
    "X, y = fetch_california_housing(return_X_y=True)\n",
    "print(X.shape)\n",
    "print(y.shape)"
   ]
  },
  {
   "cell_type": "code",
   "execution_count": 14,
   "metadata": {},
   "outputs": [
    {
     "name": "stdout",
     "output_type": "stream",
     "text": [
      "(100, 20)\n",
      "(100,)\n"
     ]
    }
   ],
   "source": [
    "# 載入生成資料集\n",
    "X, y = make_classification()\n",
    "print(X.shape)\n",
    "print(y.shape)"
   ]
  },
  {
   "cell_type": "markdown",
   "metadata": {},
   "source": [
    "在資料轉換的環節，`sklearn.preprocessing` 提供一種稱為轉換器（Transformer）的自定義類別，初始化後可以透過 `fit_transform` 方法將輸入資料轉換為指定的輸出格式。常用的轉換器有高次項特徵與標準化，其中高次項特徵轉換器可以為特徵矩陣中的特徵生成截距項（即 $x_0 = 1$）、高次項與交叉項："
   ]
  },
  {
   "cell_type": "code",
   "execution_count": 15,
   "metadata": {},
   "outputs": [],
   "source": [
    "X = players[['heightFeet', 'heightInches']].values.astype(int)\n",
    "X_before_poly = X.copy()\n",
    "poly = PolynomialFeatures()\n",
    "X_after_poly = poly.fit_transform(X_before_poly)"
   ]
  },
  {
   "cell_type": "code",
   "execution_count": 16,
   "metadata": {},
   "outputs": [
    {
     "data": {
      "text/plain": [
       "array([[ 6,  0],\n",
       "       [ 6, 11],\n",
       "       [ 6,  9],\n",
       "       [ 6, 11],\n",
       "       [ 6, 10],\n",
       "       [ 6,  5],\n",
       "       [ 6,  4],\n",
       "       [ 6, 11],\n",
       "       [ 6,  8],\n",
       "       [ 6,  9]])"
      ]
     },
     "execution_count": 16,
     "metadata": {},
     "output_type": "execute_result"
    }
   ],
   "source": [
    "# 輸入高次項特徵轉換器之前的 X: x_1, x_2\n",
    "X_before_poly[:10, :]"
   ]
  },
  {
   "cell_type": "code",
   "execution_count": 17,
   "metadata": {},
   "outputs": [
    {
     "data": {
      "text/plain": [
       "array([[  1.,   6.,   0.,  36.,   0.,   0.],\n",
       "       [  1.,   6.,  11.,  36.,  66., 121.],\n",
       "       [  1.,   6.,   9.,  36.,  54.,  81.],\n",
       "       ...,\n",
       "       [  1.,   6.,  11.,  36.,  66., 121.],\n",
       "       [  1.,   6.,  10.,  36.,  60., 100.],\n",
       "       [  1.,   7.,   0.,  49.,   0.,   0.]])"
      ]
     },
     "execution_count": 17,
     "metadata": {},
     "output_type": "execute_result"
    }
   ],
   "source": [
    "# 高次項特徵轉換器輸出的 X: x_0, x_1, x_2, x_1**2, x_1*x_2, x_2**2\n",
    "X_after_poly"
   ]
  },
  {
   "cell_type": "markdown",
   "metadata": {},
   "source": [
    "而標準化轉換器則是可以為特徵矩陣中的特徵進行量度的標準化，像是最小最大標準化（Min-max scaler）或者常態標準化（Standard scaler）。"
   ]
  },
  {
   "cell_type": "code",
   "execution_count": 18,
   "metadata": {},
   "outputs": [],
   "source": [
    "X_before_scaled = X.copy()\n",
    "ms = MinMaxScaler()\n",
    "ss = StandardScaler()\n",
    "X_after_ms = ms.fit_transform(X_before_scaled)\n",
    "X_after_ss = ss.fit_transform(X_before_scaled)"
   ]
  },
  {
   "cell_type": "code",
   "execution_count": 19,
   "metadata": {},
   "outputs": [
    {
     "data": {
      "text/plain": [
       "array([[ 6,  0],\n",
       "       [ 6, 11],\n",
       "       [ 6,  9],\n",
       "       [ 6, 11],\n",
       "       [ 6, 10],\n",
       "       [ 6,  5],\n",
       "       [ 6,  4],\n",
       "       [ 6, 11],\n",
       "       [ 6,  8],\n",
       "       [ 6,  9]])"
      ]
     },
     "execution_count": 19,
     "metadata": {},
     "output_type": "execute_result"
    }
   ],
   "source": [
    "X_before_scaled[:10, :]"
   ]
  },
  {
   "cell_type": "code",
   "execution_count": 20,
   "metadata": {},
   "outputs": [
    {
     "data": {
      "text/plain": [
       "array([[0.5       , 0.        ],\n",
       "       [0.5       , 1.        ],\n",
       "       [0.5       , 0.81818182],\n",
       "       [0.5       , 1.        ],\n",
       "       [0.5       , 0.90909091],\n",
       "       [0.5       , 0.45454545],\n",
       "       [0.5       , 0.36363636],\n",
       "       [0.5       , 1.        ],\n",
       "       [0.5       , 0.72727273],\n",
       "       [0.5       , 0.81818182]])"
      ]
     },
     "execution_count": 20,
     "metadata": {},
     "output_type": "execute_result"
    }
   ],
   "source": [
    "X_after_ms[:10, :]"
   ]
  },
  {
   "cell_type": "code",
   "execution_count": 21,
   "metadata": {},
   "outputs": [
    {
     "data": {
      "text/plain": [
       "array([[-0.15164926, -1.88887461],\n",
       "       [-0.15164926,  1.6276608 ],\n",
       "       [-0.15164926,  0.98829072],\n",
       "       [-0.15164926,  1.6276608 ],\n",
       "       [-0.15164926,  1.30797576],\n",
       "       [-0.15164926, -0.29044943],\n",
       "       [-0.15164926, -0.61013446],\n",
       "       [-0.15164926,  1.6276608 ],\n",
       "       [-0.15164926,  0.66860568],\n",
       "       [-0.15164926,  0.98829072]])"
      ]
     },
     "execution_count": 21,
     "metadata": {},
     "output_type": "execute_result"
    }
   ],
   "source": [
    "X_after_ss[:10, :]"
   ]
  },
  {
   "cell_type": "markdown",
   "metadata": {},
   "source": [
    "在資料預測的環節，`sklearn.preprocessing` 提供一種稱為預測器（Predictor）的自定義類別，初始化後可以透過 `fit` 方法對訓練資料進行「配適」，透過 `predict` 方法對驗證或測試資料進行「預測」。"
   ]
  },
  {
   "cell_type": "code",
   "execution_count": 22,
   "metadata": {},
   "outputs": [],
   "source": [
    "X = players[['heightFeet', 'heightInches']].values.astype(int)\n",
    "y = players['weightKilograms'].values\n",
    "X_train, X_valid, y_train, y_valid = train_test_split(X, y, test_size=0.33, random_state=42)"
   ]
  },
  {
   "cell_type": "code",
   "execution_count": 23,
   "metadata": {},
   "outputs": [],
   "source": [
    "# 初始化\n",
    "lr = LinearRegression()\n",
    "# 對訓練資料進行「配適」\n",
    "lr.fit(X_train,  y_train)\n",
    "# 對驗證或測試資料進行「預測」\n",
    "y_pred = lr.predict(X_valid)"
   ]
  },
  {
   "cell_type": "markdown",
   "metadata": {},
   "source": [
    "## 關於訓練、驗證與測試資料\n",
    "\n",
    "訓練資料（Training data，前述的 `X_train` 與 `y_train`）是具有實際值或標籤的已實現歷史資料，作用是讓演算法能夠在其中尋找出一組能夠讓 $h$ 與 $f$ 的係數組合，訓練過程中透過比較預測結果與已實現的實際值或標籤，在能力可及範圍下尋找出一組相似度最高的係數組合；就像求學時課本中附有詳解的練習題一般，訓練我們對一個觀念的暸解。\n",
    "\n",
    "驗證資料（Validation data，前述的 `X_valid` 與 `y_valid`）同樣是具有實際值或標籤的已實現歷史資料，但是在使用上偽裝成不具有實際值或標籤的待預測資料，作用是在把 $h$ 拿去面對未知資料之前，就能夠對 $h$ 的可能表現心底有數；就像求學時參加模擬考試一般，在過程中就像真的參加考試一般，但是在之後有解答可以參考。\n",
    "\n",
    "測試資料（Test data）是不具有實際值或標籤的待預測資料，作用是輸入訓練完成、驗證結果良好的 $h$，藉此達成資料預測目的；就像求學時參加的大型考試一般。\n",
    "\n",
    "以 [Kaggle](https://www.kaggle.com/) 網站所下載回來的資料為例，我們會將具有實際值或標籤的已實現歷史資料 `train.csv` 分割為訓練與驗證資料；不具有實際值或標籤的待預測資料 `test.csv` 就是測試資料，兩個資料在維度上的差別就是實際值或標籤的已實現歷史資料：目標向量 $y$。"
   ]
  },
  {
   "cell_type": "code",
   "execution_count": 24,
   "metadata": {},
   "outputs": [
    {
     "name": "stdout",
     "output_type": "stream",
     "text": [
      "(891, 12)\n",
      "(418, 11)\n"
     ]
    }
   ],
   "source": [
    "train = pd.read_csv(\"https://kaggle-getting-started.s3-ap-northeast-1.amazonaws.com/titanic/train.csv\")\n",
    "test = pd.read_csv(\"https://kaggle-getting-started.s3-ap-northeast-1.amazonaws.com/titanic/test.csv\")\n",
    "print(train.shape)\n",
    "print(test.shape)"
   ]
  },
  {
   "cell_type": "code",
   "execution_count": 25,
   "metadata": {},
   "outputs": [
    {
     "data": {
      "text/plain": [
       "Index(['Survived'], dtype='object')"
      ]
     },
     "execution_count": 25,
     "metadata": {},
     "output_type": "execute_result"
    }
   ],
   "source": [
    "# 差別在 Survived 這個目標向量\n",
    "train.columns.difference(test.columns)"
   ]
  },
  {
   "cell_type": "markdown",
   "metadata": {},
   "source": [
    "使用 Scikit-Learn 包裝妥善的函式 `train_test_split` 可以將輸入分割為訓練與驗證資料，常見的觀測值比例由 `6:4` 到 `9:1` 不等，原則是訓練資料筆數應該大過於驗證資料筆數，透過函式中的 `test_size` 參數來設定驗證資料的比例。"
   ]
  },
  {
   "cell_type": "code",
   "execution_count": 26,
   "metadata": {},
   "outputs": [],
   "source": [
    "players_train, players_valid = train_test_split(players, test_size=0.3, random_state=42)"
   ]
  },
  {
   "cell_type": "code",
   "execution_count": 27,
   "metadata": {},
   "outputs": [
    {
     "data": {
      "text/html": [
       "<div>\n",
       "<style scoped>\n",
       "    .dataframe tbody tr th:only-of-type {\n",
       "        vertical-align: middle;\n",
       "    }\n",
       "\n",
       "    .dataframe tbody tr th {\n",
       "        vertical-align: top;\n",
       "    }\n",
       "\n",
       "    .dataframe thead th {\n",
       "        text-align: right;\n",
       "    }\n",
       "</style>\n",
       "<table border=\"1\" class=\"dataframe\">\n",
       "  <thead>\n",
       "    <tr style=\"text-align: right;\">\n",
       "      <th></th>\n",
       "      <th>firstName</th>\n",
       "      <th>lastName</th>\n",
       "      <th>temporaryDisplayName</th>\n",
       "      <th>personId</th>\n",
       "    </tr>\n",
       "  </thead>\n",
       "  <tbody>\n",
       "    <tr>\n",
       "      <th>116</th>\n",
       "      <td>Terence</td>\n",
       "      <td>Davis</td>\n",
       "      <td>Davis, Terence</td>\n",
       "      <td>1629056</td>\n",
       "    </tr>\n",
       "    <tr>\n",
       "      <th>45</th>\n",
       "      <td>Bojan</td>\n",
       "      <td>Bogdanovic</td>\n",
       "      <td>Bogdanovic, Bojan</td>\n",
       "      <td>202711</td>\n",
       "    </tr>\n",
       "    <tr>\n",
       "      <th>16</th>\n",
       "      <td>Trevor</td>\n",
       "      <td>Ariza</td>\n",
       "      <td>Ariza, Trevor</td>\n",
       "      <td>2772</td>\n",
       "    </tr>\n",
       "    <tr>\n",
       "      <th>465</th>\n",
       "      <td>Moritz</td>\n",
       "      <td>Wagner</td>\n",
       "      <td>Wagner, Moritz</td>\n",
       "      <td>1629021</td>\n",
       "    </tr>\n",
       "    <tr>\n",
       "      <th>358</th>\n",
       "      <td>Elie</td>\n",
       "      <td>Okobo</td>\n",
       "      <td>Okobo, Elie</td>\n",
       "      <td>1629059</td>\n",
       "    </tr>\n",
       "  </tbody>\n",
       "</table>\n",
       "</div>"
      ],
      "text/plain": [
       "    firstName    lastName temporaryDisplayName personId\n",
       "116   Terence       Davis       Davis, Terence  1629056\n",
       "45      Bojan  Bogdanovic    Bogdanovic, Bojan   202711\n",
       "16     Trevor       Ariza        Ariza, Trevor     2772\n",
       "465    Moritz      Wagner       Wagner, Moritz  1629021\n",
       "358      Elie       Okobo          Okobo, Elie  1629059"
      ]
     },
     "execution_count": 27,
     "metadata": {},
     "output_type": "execute_result"
    }
   ],
   "source": [
    "players_train.iloc[:5, :4]"
   ]
  },
  {
   "cell_type": "code",
   "execution_count": 28,
   "metadata": {},
   "outputs": [
    {
     "data": {
      "text/html": [
       "<div>\n",
       "<style scoped>\n",
       "    .dataframe tbody tr th:only-of-type {\n",
       "        vertical-align: middle;\n",
       "    }\n",
       "\n",
       "    .dataframe tbody tr th {\n",
       "        vertical-align: top;\n",
       "    }\n",
       "\n",
       "    .dataframe thead th {\n",
       "        text-align: right;\n",
       "    }\n",
       "</style>\n",
       "<table border=\"1\" class=\"dataframe\">\n",
       "  <thead>\n",
       "    <tr style=\"text-align: right;\">\n",
       "      <th></th>\n",
       "      <th>firstName</th>\n",
       "      <th>lastName</th>\n",
       "      <th>temporaryDisplayName</th>\n",
       "      <th>personId</th>\n",
       "    </tr>\n",
       "  </thead>\n",
       "  <tbody>\n",
       "    <tr>\n",
       "      <th>268</th>\n",
       "      <td>Skal</td>\n",
       "      <td>Labissiere</td>\n",
       "      <td>Labissiere, Skal</td>\n",
       "      <td>1627746</td>\n",
       "    </tr>\n",
       "    <tr>\n",
       "      <th>73</th>\n",
       "      <td>Trey</td>\n",
       "      <td>Burke</td>\n",
       "      <td>Burke, Trey</td>\n",
       "      <td>203504</td>\n",
       "    </tr>\n",
       "    <tr>\n",
       "      <th>289</th>\n",
       "      <td>Timothe</td>\n",
       "      <td>Luwawu-Cabarrot</td>\n",
       "      <td>Luwawu-Cabarrot, Timothe</td>\n",
       "      <td>1627789</td>\n",
       "    </tr>\n",
       "    <tr>\n",
       "      <th>155</th>\n",
       "      <td>Wenyen</td>\n",
       "      <td>Gabriel</td>\n",
       "      <td>Gabriel, Wenyen</td>\n",
       "      <td>1629117</td>\n",
       "    </tr>\n",
       "    <tr>\n",
       "      <th>104</th>\n",
       "      <td>Pat</td>\n",
       "      <td>Connaughton</td>\n",
       "      <td>Connaughton, Pat</td>\n",
       "      <td>1626192</td>\n",
       "    </tr>\n",
       "  </tbody>\n",
       "</table>\n",
       "</div>"
      ],
      "text/plain": [
       "    firstName         lastName      temporaryDisplayName personId\n",
       "268      Skal       Labissiere          Labissiere, Skal  1627746\n",
       "73       Trey            Burke               Burke, Trey   203504\n",
       "289   Timothe  Luwawu-Cabarrot  Luwawu-Cabarrot, Timothe  1627789\n",
       "155    Wenyen          Gabriel           Gabriel, Wenyen  1629117\n",
       "104       Pat      Connaughton          Connaughton, Pat  1626192"
      ]
     },
     "execution_count": 28,
     "metadata": {},
     "output_type": "execute_result"
    }
   ],
   "source": [
    "players_valid.iloc[:5, :4]"
   ]
  },
  {
   "cell_type": "markdown",
   "metadata": {},
   "source": [
    "分割訓練與驗證資料的原則有二，先做資料集的隨機排序，像是我們玩撲克牌時所操作的洗牌（Shuffle），再來是依據 `test_size` 參數將具有實際值或標籤的已實現歷史資料水平切割，上方分配給驗證資料、下方分配給訓練資料；隨機排序是為避免訓練過程 $h$ 的配適受到資料源本來的排序樣態所影響；依據這兩個原則自行定義一個 `trainTestSplit` 函式看是否可以獲得與前述相同的分割結果。"
   ]
  },
  {
   "cell_type": "code",
   "execution_count": 29,
   "metadata": {},
   "outputs": [],
   "source": [
    "def trainTestSplit(df, test_size, random_state):\n",
    "    df_index = df.index.values.copy()\n",
    "    m = df_index.size\n",
    "    np.random.seed(random_state)\n",
    "    np.random.shuffle(df_index)\n",
    "    test_index = int(np.ceil(m * test_size))\n",
    "    test_indices = df_index[:test_index]\n",
    "    train_indices = df_index[test_index:]\n",
    "    df_valid = df.loc[test_indices, :]\n",
    "    df_train = df.loc[train_indices, :]\n",
    "    return df_train, df_valid"
   ]
  },
  {
   "cell_type": "code",
   "execution_count": 30,
   "metadata": {},
   "outputs": [],
   "source": [
    "players_train, players_valid = trainTestSplit(players, test_size=0.3, random_state=42)"
   ]
  },
  {
   "cell_type": "code",
   "execution_count": 31,
   "metadata": {},
   "outputs": [
    {
     "data": {
      "text/html": [
       "<div>\n",
       "<style scoped>\n",
       "    .dataframe tbody tr th:only-of-type {\n",
       "        vertical-align: middle;\n",
       "    }\n",
       "\n",
       "    .dataframe tbody tr th {\n",
       "        vertical-align: top;\n",
       "    }\n",
       "\n",
       "    .dataframe thead th {\n",
       "        text-align: right;\n",
       "    }\n",
       "</style>\n",
       "<table border=\"1\" class=\"dataframe\">\n",
       "  <thead>\n",
       "    <tr style=\"text-align: right;\">\n",
       "      <th></th>\n",
       "      <th>firstName</th>\n",
       "      <th>lastName</th>\n",
       "      <th>temporaryDisplayName</th>\n",
       "      <th>personId</th>\n",
       "    </tr>\n",
       "  </thead>\n",
       "  <tbody>\n",
       "    <tr>\n",
       "      <th>116</th>\n",
       "      <td>Terence</td>\n",
       "      <td>Davis</td>\n",
       "      <td>Davis, Terence</td>\n",
       "      <td>1629056</td>\n",
       "    </tr>\n",
       "    <tr>\n",
       "      <th>45</th>\n",
       "      <td>Bojan</td>\n",
       "      <td>Bogdanovic</td>\n",
       "      <td>Bogdanovic, Bojan</td>\n",
       "      <td>202711</td>\n",
       "    </tr>\n",
       "    <tr>\n",
       "      <th>16</th>\n",
       "      <td>Trevor</td>\n",
       "      <td>Ariza</td>\n",
       "      <td>Ariza, Trevor</td>\n",
       "      <td>2772</td>\n",
       "    </tr>\n",
       "    <tr>\n",
       "      <th>465</th>\n",
       "      <td>Moritz</td>\n",
       "      <td>Wagner</td>\n",
       "      <td>Wagner, Moritz</td>\n",
       "      <td>1629021</td>\n",
       "    </tr>\n",
       "    <tr>\n",
       "      <th>358</th>\n",
       "      <td>Elie</td>\n",
       "      <td>Okobo</td>\n",
       "      <td>Okobo, Elie</td>\n",
       "      <td>1629059</td>\n",
       "    </tr>\n",
       "  </tbody>\n",
       "</table>\n",
       "</div>"
      ],
      "text/plain": [
       "    firstName    lastName temporaryDisplayName personId\n",
       "116   Terence       Davis       Davis, Terence  1629056\n",
       "45      Bojan  Bogdanovic    Bogdanovic, Bojan   202711\n",
       "16     Trevor       Ariza        Ariza, Trevor     2772\n",
       "465    Moritz      Wagner       Wagner, Moritz  1629021\n",
       "358      Elie       Okobo          Okobo, Elie  1629059"
      ]
     },
     "execution_count": 31,
     "metadata": {},
     "output_type": "execute_result"
    }
   ],
   "source": [
    "players_train.iloc[:5, :4]"
   ]
  },
  {
   "cell_type": "code",
   "execution_count": 32,
   "metadata": {},
   "outputs": [
    {
     "data": {
      "text/html": [
       "<div>\n",
       "<style scoped>\n",
       "    .dataframe tbody tr th:only-of-type {\n",
       "        vertical-align: middle;\n",
       "    }\n",
       "\n",
       "    .dataframe tbody tr th {\n",
       "        vertical-align: top;\n",
       "    }\n",
       "\n",
       "    .dataframe thead th {\n",
       "        text-align: right;\n",
       "    }\n",
       "</style>\n",
       "<table border=\"1\" class=\"dataframe\">\n",
       "  <thead>\n",
       "    <tr style=\"text-align: right;\">\n",
       "      <th></th>\n",
       "      <th>firstName</th>\n",
       "      <th>lastName</th>\n",
       "      <th>temporaryDisplayName</th>\n",
       "      <th>personId</th>\n",
       "    </tr>\n",
       "  </thead>\n",
       "  <tbody>\n",
       "    <tr>\n",
       "      <th>268</th>\n",
       "      <td>Skal</td>\n",
       "      <td>Labissiere</td>\n",
       "      <td>Labissiere, Skal</td>\n",
       "      <td>1627746</td>\n",
       "    </tr>\n",
       "    <tr>\n",
       "      <th>73</th>\n",
       "      <td>Trey</td>\n",
       "      <td>Burke</td>\n",
       "      <td>Burke, Trey</td>\n",
       "      <td>203504</td>\n",
       "    </tr>\n",
       "    <tr>\n",
       "      <th>289</th>\n",
       "      <td>Timothe</td>\n",
       "      <td>Luwawu-Cabarrot</td>\n",
       "      <td>Luwawu-Cabarrot, Timothe</td>\n",
       "      <td>1627789</td>\n",
       "    </tr>\n",
       "    <tr>\n",
       "      <th>155</th>\n",
       "      <td>Wenyen</td>\n",
       "      <td>Gabriel</td>\n",
       "      <td>Gabriel, Wenyen</td>\n",
       "      <td>1629117</td>\n",
       "    </tr>\n",
       "    <tr>\n",
       "      <th>104</th>\n",
       "      <td>Pat</td>\n",
       "      <td>Connaughton</td>\n",
       "      <td>Connaughton, Pat</td>\n",
       "      <td>1626192</td>\n",
       "    </tr>\n",
       "  </tbody>\n",
       "</table>\n",
       "</div>"
      ],
      "text/plain": [
       "    firstName         lastName      temporaryDisplayName personId\n",
       "268      Skal       Labissiere          Labissiere, Skal  1627746\n",
       "73       Trey            Burke               Burke, Trey   203504\n",
       "289   Timothe  Luwawu-Cabarrot  Luwawu-Cabarrot, Timothe  1627789\n",
       "155    Wenyen          Gabriel           Gabriel, Wenyen  1629117\n",
       "104       Pat      Connaughton          Connaughton, Pat  1626192"
      ]
     },
     "execution_count": 32,
     "metadata": {},
     "output_type": "execute_result"
    }
   ],
   "source": [
    "players_valid.iloc[:5, :4]"
   ]
  },
  {
   "cell_type": "markdown",
   "metadata": {},
   "source": [
    "比對資料框的索引值可以驗證自行定義的 `trainTestSplit` 與 Scikit-Learn 的 `train_test_split` 分割邏輯相同。"
   ]
  },
  {
   "cell_type": "markdown",
   "metadata": {},
   "source": [
    "## 延伸閱讀\n",
    "\n",
    "1. Getting Started - scikit-learn (https://scikit-learn.org/stable/getting_started.html)\n",
    "2. Kaggle (https://www.kaggle.com)\n",
    "3. Introducing Scikit-Learn In: Jake VanderPlas, Python Data Science Handbook (https://jakevdp.github.io/PythonDataScienceHandbook/05.02-introducing-scikit-learn.html)\n",
    "4. Sebastian Raschka, Vahid Mirjalili: Python Machine Learning (https://www.amazon.com/Python-Machine-Learning-scikit-learn-TensorFlow/dp/1789955750/) "
   ]
  }
 ],
 "metadata": {
  "kernelspec": {
   "display_name": "Python Machine Learning",
   "language": "python",
   "name": "pyml"
  },
  "language_info": {
   "codemirror_mode": {
    "name": "ipython",
    "version": 3
   },
   "file_extension": ".py",
   "mimetype": "text/x-python",
   "name": "python",
   "nbconvert_exporter": "python",
   "pygments_lexer": "ipython3",
   "version": "3.6.8"
  }
 },
 "nbformat": 4,
 "nbformat_minor": 4
}
