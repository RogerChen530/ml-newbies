{
 "cells": [
  {
   "cell_type": "markdown",
   "metadata": {},
   "source": [
    "# 數值預測的任務\n",
    "\n",
    "我們先載入這個章節範例程式碼中會使用到的第三方套件、模組或者其中的部分類別、函式。"
   ]
  },
  {
   "cell_type": "code",
   "execution_count": 1,
   "metadata": {},
   "outputs": [],
   "source": [
    "from pyvizml import CreateNBAData\n",
    "import requests\n",
    "import numpy as np\n",
    "import pandas as pd\n",
    "import matplotlib.pyplot as plt\n",
    "from sklearn.model_selection import train_test_split\n",
    "from sklearn.linear_model import LinearRegression\n",
    "from sklearn.preprocessing import MinMaxScaler\n",
    "from sklearn.preprocessing import StandardScaler"
   ]
  },
  {
   "cell_type": "markdown",
   "metadata": {},
   "source": [
    "## 關於數值預測的任務\n",
    "\n",
    "「數值預測」是「監督式學習」的其中一種應用類型，當預測的目標向量 $y$ 屬於連續型的數值變數，那我們就能預期正在面對數值預測的任務，更廣泛被眾人知悉的名稱為「迴歸模型」。例如預測的目標向量 $y$ 是 `players` 資料中的 `weightKilograms`，在資料類別中屬於連續型的數值類別 `float`；具體來說，迴歸模型想方設法將特徵矩陣 $X$ 與目標向量 $y$ 之間的關聯以一條迴歸線（Regression Line）描繪，而描繪迴歸線所依據的截距項和係數項，就是用來逼近 $f$ 的 $h$。\n",
    "\n",
    "我們也可依 [Tom Mitchel](https://en.wikipedia.org/wiki/Tom_M._Mitchell) 對機器學習電腦程式的定義寫下數值預測的資料、任務、評估與但書，以預測 `players` 資料中的 `weightKilograms` 為例：\n",
    "\n",
    "- 資料（Experience）：一定數量的球員資料\n",
    "- 任務（Task）：利用模型預測球員的體重\n",
    "- 評估（Performance）：模型預測的體重與球員實際體重的誤差大小\n",
    "- 但書（Condition）：隨著資料觀測值筆數增加，預測誤差應該要減少"
   ]
  },
  {
   "cell_type": "code",
   "execution_count": 2,
   "metadata": {},
   "outputs": [
    {
     "name": "stdout",
     "output_type": "stream",
     "text": [
      "Creating players df...\n"
     ]
    },
    {
     "data": {
      "text/plain": [
       "dtype('float64')"
      ]
     },
     "execution_count": 2,
     "metadata": {},
     "output_type": "execute_result"
    }
   ],
   "source": [
    "# players 資料中的 weightKilograms\n",
    "cnd = CreateNBAData(2019)\n",
    "players = cnd.create_players_df()\n",
    "y = players['weightKilograms'].values.astype(float)\n",
    "y.dtype"
   ]
  },
  {
   "cell_type": "markdown",
   "metadata": {},
   "source": [
    "## 以 Scikit-Learn 預測器完成數值預測任務\n",
    "\n",
    "將 `heightMeters` 當作特徵矩陣為例，特徵矩陣 $X$ 與目標向量 $y$ 之間的關聯可以這樣描述。\n",
    "\n",
    "\\begin{equation}\n",
    "\\hat{y} = w_0 + w_1x_1\n",
    "\\end{equation}\n",
    "\n",
    "以 Scikit-Learn 定義好的預測器類別 `LinearRegression` 可以快速找出描繪迴歸線所依據的截距項 $w_0$ 和係數項 $w_1$。"
   ]
  },
  {
   "cell_type": "code",
   "execution_count": 3,
   "metadata": {},
   "outputs": [
    {
     "data": {
      "text/plain": [
       "LinearRegression(copy_X=True, fit_intercept=True, n_jobs=None, normalize=False)"
      ]
     },
     "execution_count": 3,
     "metadata": {},
     "output_type": "execute_result"
    }
   ],
   "source": [
    "X = players['heightMeters'].values.astype(float).reshape(-1, 1)\n",
    "y = players['weightKilograms'].values.astype(float)\n",
    "X_train, X_valid, y_train, y_valid = train_test_split(X, y, test_size=0.33, random_state=42)\n",
    "h = LinearRegression()\n",
    "h.fit(X_train, y_train)"
   ]
  },
  {
   "cell_type": "code",
   "execution_count": 4,
   "metadata": {},
   "outputs": [
    {
     "name": "stdout",
     "output_type": "stream",
     "text": [
      "-104.22092448587175\n",
      "[101.82540151]\n"
     ]
    }
   ],
   "source": [
    "print(h.intercept_) # 截距項\n",
    "print(h.coef_)      # 係數項"
   ]
  },
  {
   "cell_type": "code",
   "execution_count": 5,
   "metadata": {},
   "outputs": [
    {
     "data": {
      "text/plain": [
       "array([107.57591065,  82.11956027, 100.44813254, 105.53940262,\n",
       "        95.35686246, 112.66718072,  92.30210042,  92.30210042,\n",
       "        97.39337049,  95.35686246])"
      ]
     },
     "execution_count": 5,
     "metadata": {},
     "output_type": "execute_result"
    }
   ],
   "source": [
    "# 預測\n",
    "y_pred = h.predict(X_valid)\n",
    "y_pred[:10]"
   ]
  },
  {
   "cell_type": "markdown",
   "metadata": {},
   "source": [
    "找出 $w_0$ 與 $w_1$ 就能夠描繪出一條迴歸線表達特徵矩陣 $X$ 與目標向量 $y$。"
   ]
  },
  {
   "cell_type": "code",
   "execution_count": 6,
   "metadata": {},
   "outputs": [],
   "source": [
    "# 創建迴歸線的資料\n",
    "X1 = np.linspace(X.min()-0.1, X.max()+0.1).reshape(-1, 1)\n",
    "y_hat = h.predict(X1)"
   ]
  },
  {
   "cell_type": "code",
   "execution_count": 7,
   "metadata": {},
   "outputs": [
    {
     "data": {
      "image/png": "[encoded data removed]",
      "text/plain": [
       "<Figure size 432x288 with 1 Axes>"
      ]
     },
     "metadata": {
      "needs_background": "light"
     },
     "output_type": "display_data"
    }
   ],
   "source": [
    "# 描繪迴歸線\n",
    "fig, ax = plt.subplots()\n",
    "ax.scatter(X_train.ravel(), y_train, label=\"training\")\n",
    "ax.scatter(X_valid.ravel(), y_valid, label=\"valid\")\n",
    "ax.plot(X1.ravel(), y_hat, c=\"red\", label=\"regression\")\n",
    "ax.legend()\n",
    "plt.show()"
   ]
  },
  {
   "cell_type": "markdown",
   "metadata": {},
   "source": [
    "使用 Scikit-Learn 預測器的最關鍵方法呼叫是 `fit()` 方法，究竟它是如何決定 `X_train` 與 `y_train` 之間的關聯 $w$？接下來我們試圖推導並理解它。"
   ]
  },
  {
   "cell_type": "markdown",
   "metadata": {},
   "source": [
    "## 正規方程 Normal Equation\n",
    "\n",
    "使用機器學習解決數值預測的任務，顧名思義是能夠創建出一個 $h$ 函式，這個函式可以將無標籤資料 $x$ 作為輸入，並預測目標向量 $y$ 的值作為其輸出。\n",
    "\n",
    "\\begin{align}\n",
    "\\hat{y} &= h(x; w) \\\\\n",
    "&= w_0 + w_1x_1 + ... + w_nx_n\n",
    "\\end{align}\n",
    "\n",
    "為了寫作成向量相乘形式，為 $w_0$ 補上 $x_0=1$：\n",
    "\n",
    "\\begin{align}\n",
    "\\hat{y} &= w_0x_0 + w_1x_1 + ... + w_nx_n, \\; where \\; w_0 = 1 \\\\\n",
    "&= w^Tx\n",
    "\\end{align}\n",
    "\n",
    "其中 $\\hat{y}$ 是預測值、$n$ 是特徵個數、$w$ 是係數向量；並能夠進一步延展為 `m` 筆觀測值的外觀為：\n",
    "\n",
    "\\begin{equation}\n",
    "\\hat{y} = h(X; w) = \n",
    "\\begin{bmatrix} x_{00}, x_{01}, ..., x_{0n} \\\\ x_{10}, x_{11}, ..., x_{1n} \\\\.\\\\.\\\\.\\\\ x_{m0}, x_{m1}, ..., x_{mn}\n",
    "\\end{bmatrix}\n",
    "\\begin{bmatrix} w_0 \\\\ w_1 \\\\.\\\\.\\\\.\\\\ w_n \\end{bmatrix} = Xw\n",
    "\\end{equation}\n",
    "\n",
    "$h(X; w)$ 是基於 $w$ 的函式，如果第 $i$ 個特徵 $x_i$ 對應的係數 $w_i$ 為正數，該特徵與 $\\hat{y}$ 的變動同向；如果第 $i$ 個特徵 $x_i$ 對應的係數 $w_i$ 為負數，該特徵與 $\\hat{y}$ 的變動反向；如果第 $i$ 個特徵 $x_i$ 對應的係數 $w_i$ 為零，該特徵對 $\\hat{y}$ 的變動沒有影響。\n",
    "\n",
    "截至於此，資料（Experiment）與任務（Task）已經被定義妥善，特徵矩陣 $X$ 外觀 `(m, n)`、目標向量 $y$ 外觀 `(m,)`、係數向量 $w$ 外觀 `(n,)`，通過將 $X$ 輸入 $h$ 來預測 $\\hat{y}$，接下來還需要定義評估（Performance）。\n",
    "\n",
    "評估 $h$ 的方法是計算 $y^{(train)}$ 與 $\\hat{y}^{(train)}$ 之間的均方誤差（Mean squared error）：\n",
    "\n",
    "\\begin{equation}\n",
    "MSE_{train} = \\frac{1}{m}\\sum_i(y^{(train)} - \\hat{y}^{(train)})_i^2\n",
    "\\end{equation}\n",
    "\n",
    "如果寫為向量運算的外觀：\n",
    "\n",
    "\\begin{equation}\n",
    "MSE_{train} = \\frac{1}{m}\\parallel y^{(train)} - \\hat{y}^{(train)} \\parallel^2\n",
    "\\end{equation}\n",
    "\n",
    "電腦程式能夠通過觀察訓練資料藉此獲得一組能讓均方誤差最小化的係數向量 $w$，為了達成這個目的，將均方誤差表達為一個基於係數向量 $w$ 的函式 $J(w)$：\n",
    "\n",
    "\\begin{equation}\n",
    "J(w) = MSE = \\frac{1}{m} \\parallel y - Xw \\parallel^2\n",
    "\\end{equation}\n",
    "\n",
    "整理一下函式 $J(w)$ 的外觀：\n",
    "\n",
    "\\begin{align}\n",
    "J(w) &= \\frac{1}{m}(Xw - y)^T(Xw - y) \\\\\n",
    "&= \\frac{1}{m}(w^TX^T - y^T)(Xw - y) \\\\\n",
    "&= \\frac{1}{m}(w^TX^TXw - w^TX^Ty - y^TXw + y^Ty) \\\\\n",
    "&= \\frac{1}{m}(w^TX^TXw - (Xw)^Ty - y^TXw + y^Ty) \\\\\n",
    "&= \\frac{1}{m}(w^TX^TXw - 2(Xw)^Ty + y^Ty)\n",
    "\\end{align}\n",
    "\n",
    "求解 $J(w)$ 斜率為零的位置：\n",
    "\n",
    "\\begin{gather}\n",
    "\\frac{\\partial}{\\partial w} J(w) = 0 \\\\\n",
    "2X^TXw - 2X^Ty = 0 \\\\\n",
    "X^TXw = X^Ty \\\\\n",
    "w^* = (X^TX)^{-1}X^Ty\n",
    "\\end{gather}\n",
    "\n",
    "這個 $w^*$ 求解亦被稱呼為「正規方程」（Normal equation）。"
   ]
  },
  {
   "cell_type": "markdown",
   "metadata": {},
   "source": [
    "## 自訂正規方程類別 NormalEquation\n",
    "\n",
    "我們可以依據正規方程自訂預測器類別，並與 Scikit-Learn 定義好的預測器類別 `LinearRegression` 比對係數向量是否一致。"
   ]
  },
  {
   "cell_type": "code",
   "execution_count": 8,
   "metadata": {},
   "outputs": [],
   "source": [
    "class NormalEquation:\n",
    "    \"\"\"\n",
    "    This class defines the Normal equation for linear regression.\n",
    "    Args:\n",
    "        fit_intercept (bool): Whether to add intercept for this model.\n",
    "    \"\"\"\n",
    "    def __init__(self, fit_intercept=True):\n",
    "        self._fit_intercept = fit_intercept\n",
    "    def fit(self, X_train, y_train):\n",
    "        \"\"\"\n",
    "        This function uses Normal equation to solve for weights of this model.\n",
    "        Args:\n",
    "            X_train (ndarray): 2d-array for feature matrix of training data.\n",
    "            y_train (ndarray): 1d-array for target vector of training data.\n",
    "        \"\"\"\n",
    "        self._X_train = X_train.copy()\n",
    "        self._y_train = y_train.copy()\n",
    "        m = self._X_train.shape[0]\n",
    "        if self._fit_intercept:\n",
    "            X0 = np.ones((m, 1), dtype=float)\n",
    "            self._X_train = np.concatenate([X0, self._X_train], axis=1)\n",
    "        X_train_T = np.transpose(self._X_train)\n",
    "        left_matrix = np.dot(X_train_T, self._X_train)\n",
    "        right_matrix = np.dot(X_train_T, self._y_train)\n",
    "        left_matrix_inv = np.linalg.inv(left_matrix)\n",
    "        w = np.dot(left_matrix_inv, right_matrix)\n",
    "        w_ravel = w.ravel().copy()\n",
    "        self._w = w\n",
    "        self.intercept_ = w_ravel[0]\n",
    "        self.coef_ = w_ravel[1:]\n",
    "    def predict(self, X_test):\n",
    "        \"\"\"\n",
    "        This function returns predicted values with weights of this model.\n",
    "        Args:\n",
    "            X_test (ndarray): 2d-array for feature matrix of test data.\n",
    "        \"\"\"\n",
    "        self._X_test = X_test.copy()\n",
    "        m = self._X_test.shape[0]\n",
    "        if self._fit_intercept:\n",
    "            X0 = np.ones((m, 1), dtype=float)\n",
    "            self._X_test = np.concatenate([X0, self._X_test], axis=1)\n",
    "        y_pred = np.dot(self._X_test, self._w)\n",
    "        return y_pred"
   ]
  },
  {
   "cell_type": "code",
   "execution_count": 9,
   "metadata": {},
   "outputs": [],
   "source": [
    "h = NormalEquation()\n",
    "h.fit(X_train, y_train)"
   ]
  },
  {
   "cell_type": "code",
   "execution_count": 10,
   "metadata": {},
   "outputs": [
    {
     "name": "stdout",
     "output_type": "stream",
     "text": [
      "-104.22092448572948\n",
      "[101.82540151]\n"
     ]
    }
   ],
   "source": [
    "print(h.intercept_) # 截距項\n",
    "print(h.coef_)      # 係數項"
   ]
  },
  {
   "cell_type": "code",
   "execution_count": 11,
   "metadata": {},
   "outputs": [
    {
     "data": {
      "text/plain": [
       "array([107.57591065,  82.11956027, 100.44813254, 105.53940262,\n",
       "        95.35686246, 112.66718072,  92.30210042,  92.30210042,\n",
       "        97.39337049,  95.35686246])"
      ]
     },
     "execution_count": 11,
     "metadata": {},
     "output_type": "execute_result"
    }
   ],
   "source": [
    "# 預測\n",
    "y_pred = h.predict(X_valid)\n",
    "y_pred[:10]"
   ]
  },
  {
   "cell_type": "markdown",
   "metadata": {},
   "source": [
    "比對 $w$ 與前十筆預測值可以驗證自行定義的 `NormalEquation` 類別與 Scikit-Learn 求解 $w$ 的邏輯相近。"
   ]
  },
  {
   "cell_type": "markdown",
   "metadata": {},
   "source": [
    "## 計算複雜性\n",
    "\n",
    "計算複雜性（Computational complexity）是電腦科學研究解決問題所需的資源，諸如時間（要通過多少步演算才能解決問題）和空間（在解決問題時需要多少記憶體），在演算法中常見到的大 O 符號就是表示演算所需時間的表達式。在正規方程中必須要透過計算 $X^TX$ 的反矩陣 $(X^TX)^{-1}$ 求解 $w^*$，這是一個外觀 `(n+1, n+1)` 的二維數值陣列（`n` 為特徵個數），計算複雜性最多是 $O(n^3)$，這意味著如果特徵個數變為 2 倍，計算 $(X^TX)^{-1}$ 的時間最多會變為 8 倍。因此當面對的特徵矩陣 `n` 很大（約莫是大於 $10^4$），正規方程的計算複雜性問題就會浮現，這時讀者可能會好奇 $n \\geq 10^4$ 會很容易遭遇嗎？在特徵矩陣是圖像時很容易遭遇，例如低解析度 $100 \\: px \\times 100 \\: px$ 的灰階圖片。"
   ]
  },
  {
   "cell_type": "markdown",
   "metadata": {},
   "source": [
    "## 梯度遞減 Gradient Descent\n",
    "\n",
    "另外一種在機器學習、深度學習中更為廣泛使用的演算方法稱為「梯度遞減」（Gradient descent），基本概念是先隨機初始化一組係數向量，在基於降低 $y^{(train)}$ 與 $\\hat{y}^{(train)}$ 之間誤差 $J(w)$ 之目的標之下，以迭代方式更新該組係數向量，一直到 $J(w)$ 收斂到局部最小值為止。\n",
    "\n",
    "梯度遞減的精髓在於當演算方法更新係數向量時，並不是盲目亂槍打鳥地試誤（Trial and error），而是透過「有方向性」的依據進行更新，具體來說，就是根據誤差函式 $J(w)$ 關於係數向量 $w$ 的偏微分來決定更新的方向性，而更新的幅度大小則由一個大於零、稱為「學習速率」的常數 $\\alpha$ 決定：\n",
    "\n",
    "\\begin{equation}\n",
    "w := w - \\alpha \\frac{\\partial J}{\\partial w}\n",
    "\\end{equation}\n",
    "\n",
    "讓我們用一個簡單的例子來看為什麼透過這個式子更新 $w$ 是一種「有方向性」的依據，舉例來說如果給定一組 $X^{(train)}$ 與 $y^{(train)}$："
   ]
  },
  {
   "cell_type": "code",
   "execution_count": 12,
   "metadata": {},
   "outputs": [
    {
     "name": "stdout",
     "output_type": "stream",
     "text": [
      "[[ 1.  1.]\n",
      " [ 1.  2.]\n",
      " [ 1.  3.]\n",
      " [ 1.  4.]\n",
      " [ 1.  5.]\n",
      " [ 1.  6.]\n",
      " [ 1.  7.]\n",
      " [ 1.  8.]\n",
      " [ 1.  9.]\n",
      " [ 1. 10.]]\n",
      "[11. 17. 23. 29. 35. 41. 47. 53. 59. 65.]\n"
     ]
    }
   ],
   "source": [
    "X0 = np.ones((10, 1))\n",
    "X1 = np.arange(1, 11).reshape(-1, 1)\n",
    "w = np.array([5, 6])\n",
    "X_train = np.concatenate([X0, X1], axis=1)\n",
    "y_train = np.dot(X_train, w)\n",
    "print(X_train)\n",
    "print(y_train)"
   ]
  },
  {
   "cell_type": "markdown",
   "metadata": {},
   "source": [
    "從後見之明的視角來看，我們會知道係數向量 $w^*$ 的組成 $w_0=5$、$w_1=6$：\n",
    "\n",
    "\\begin{equation}\n",
    "f(x) = y = 5x_0 + 6x_1\n",
    "\\end{equation}\n",
    "\n",
    "亦即\n",
    "\n",
    "\\begin{equation}\n",
    "w^* = \\begin{bmatrix} w_0^* \\\\ w_1^* \\end{bmatrix} = \\begin{bmatrix} 5 \\\\ 6 \\end{bmatrix}\n",
    "\\end{equation}\n",
    "\n",
    "不過給定電腦程式一組 $X^{(train)}$ 與 $y^{(train)}$ 對於它來說像是拋出了一個大海撈針的問題，有無限多組的 $w$ 等著要嘗試（它甚至不知道用 $w_0$ 與 $w_1$ 就可以找到跟 $f$ 完全相同的 $h$），遑論找出 $w_0=5$、$w_1=6$；「梯度遞減」演算方法就是為電腦程式提供了一個尋找解題的方式，千里之行，始於足下，請先隨機初始化一組 $w$："
   ]
  },
  {
   "cell_type": "code",
   "execution_count": 13,
   "metadata": {},
   "outputs": [
    {
     "data": {
      "text/plain": [
       "array([0.37454012, 0.95071431])"
      ]
     },
     "execution_count": 13,
     "metadata": {},
     "output_type": "execute_result"
    }
   ],
   "source": [
    "np.random.seed(42)\n",
    "w = np.random.rand(2)\n",
    "w"
   ]
  },
  {
   "cell_type": "markdown",
   "metadata": {},
   "source": [
    "針對這組 $w$ 可以得到一組 $\\hat{y}^{(train)}$："
   ]
  },
  {
   "cell_type": "code",
   "execution_count": 14,
   "metadata": {},
   "outputs": [
    {
     "data": {
      "text/plain": [
       "array([1.32525443, 2.27596873, 3.22668304, 4.17739734, 5.12811165,\n",
       "       6.07882596, 7.02954026, 7.98025457, 8.93096888, 9.88168318])"
      ]
     },
     "execution_count": 14,
     "metadata": {},
     "output_type": "execute_result"
    }
   ],
   "source": [
    "y_hat = np.dot(X_train, w)\n",
    "y_hat"
   ]
  },
  {
   "cell_type": "markdown",
   "metadata": {},
   "source": [
    "針對這組 $\\hat{y}^{(train)}$ 可以計算與 $y^{(train)}$ 的均方誤差。\n",
    "\n",
    "\\begin{equation}\n",
    "J(w) = \\frac{1}{m}\\parallel y - Xw \\parallel^2\n",
    "\\end{equation}"
   ]
  },
  {
   "cell_type": "code",
   "execution_count": 15,
   "metadata": {},
   "outputs": [
    {
     "data": {
      "text/plain": [
       "1259.87134315462"
      ]
     },
     "execution_count": 15,
     "metadata": {},
     "output_type": "execute_result"
    }
   ],
   "source": [
    "m = y_train.size\n",
    "j = ((y_hat - y_train).T.dot(y_hat - y_train)) / m\n",
    "j"
   ]
  },
  {
   "cell_type": "markdown",
   "metadata": {},
   "source": [
    "那麼下一次的試誤該如何更新 $w$ 才能確保離 $w^*$ 更近，讓計算出來的均方誤差會更小一些？這時梯度遞減演算方法登場，它直截了當地說：請將目前的 $w_0$ 減去學習速率 $\\alpha$ 乘上 $J(w)$ 關於 $w_0$ 的偏微分、將目前的 $w_1$ 減去學習速率 $\\alpha$ 乘上 $J(w)$ 關於 $w_1$ 的偏微分：\n",
    "\n",
    "\\begin{equation}\n",
    "w_0 := w_0 - \\alpha \\frac{\\partial J}{\\partial w_0}\n",
    "\\end{equation}\n",
    "\n",
    "\\begin{equation}\n",
    "w_1 := w_1 - \\alpha \\frac{\\partial J}{\\partial w_1}\n",
    "\\end{equation}\n",
    "\n",
    "以係數向量的外觀表示：\n",
    "\n",
    "\\begin{equation}\n",
    "w := w - \\alpha \\frac{\\partial J}{\\partial w}\n",
    "\\end{equation}\n",
    "\n",
    "接著慢慢將 $J(w)$ 關於 $w$ 的偏微分式子展開：\n",
    "\n",
    "\\begin{align}\n",
    "\\frac{\\partial J}{\\partial w} &= \\frac{1}{m}\\frac{\\partial}{\\partial w}(\\parallel y - Xw \\parallel^2) \\\\\n",
    "&= \\frac{1}{m}\\frac{\\partial}{\\partial w}(Xw - y)^T(Xw-y) \\\\\n",
    "&= \\frac{1}{m}\\frac{\\partial}{\\partial w}(w^TX^TXw - w^TX^Ty - y^TXw + y^Ty) \\\\\n",
    "&= \\frac{1}{m}\\frac{\\partial}{\\partial w}(w^TX^TXw - (Xw)^Ty - (Xw)^Ty + y^Ty) \\\\\n",
    "&= \\frac{1}{m}\\frac{\\partial}{\\partial w}(w^TX^TXw - 2(Xw)^Ty + y^Ty) \\\\\n",
    "&= \\frac{1}{m}(2X^TXw - 2X^Ty) \\\\\n",
    "&= \\frac{2}{m}(X^TXw - X^Ty) \\\\\n",
    "&= \\frac{2}{m}X^T(Xw - y) \\\\\n",
    "&= \\frac{2}{m}X^T(\\hat{y} - y)\n",
    "\\end{align}\n",
    "\n",
    "$J(w)$ 關於 $w$ 的偏微分就是演算方法中所謂的「梯度」（Gradient），在迭代過程中 $w$ 更新的方向性取決於梯度正負號，如果梯度為正，$w$ 會向左更新（減小）；如果梯度為負，$w$ 會向右更新（增大）。\n",
    "\n",
    "\\begin{equation}\n",
    "w := w - \\alpha \\frac{2}{m}X^T(\\hat{y} - y)\n",
    "\\end{equation}\n",
    "\n",
    "接著計算隨機初始化的 $w$ 其梯度為何。"
   ]
  },
  {
   "cell_type": "code",
   "execution_count": 16,
   "metadata": {},
   "outputs": [
    {
     "data": {
      "text/plain": [
       "array([ -64.79306239, -439.6750571 ])"
      ]
     },
     "execution_count": 16,
     "metadata": {},
     "output_type": "execute_result"
    }
   ],
   "source": [
    "gradients = (2/m) * np.dot(X_train.T, y_hat - y_train)\n",
    "gradients"
   ]
  },
  {
   "cell_type": "markdown",
   "metadata": {},
   "source": [
    "當梯度為負，隨機初始化的 $w$ 會向右更新（增大），離後見之明視角所知的 $w_0 = 5$、$w_1 = 6$ 更加接近，在更新的方向性上是正確的。假設將學習速率設定為 0.001，更新的幅度就是："
   ]
  },
  {
   "cell_type": "code",
   "execution_count": 17,
   "metadata": {},
   "outputs": [
    {
     "data": {
      "text/plain": [
       "array([0.06479306, 0.43967506])"
      ]
     },
     "execution_count": 17,
     "metadata": {},
     "output_type": "execute_result"
    }
   ],
   "source": [
    "learning_rate = 0.001\n",
    "-learning_rate * gradients"
   ]
  },
  {
   "cell_type": "markdown",
   "metadata": {},
   "source": [
    "經過第一次迭代更新後的 $w$："
   ]
  },
  {
   "cell_type": "code",
   "execution_count": 18,
   "metadata": {},
   "outputs": [
    {
     "data": {
      "text/plain": [
       "array([0.43933318, 1.39038936])"
      ]
     },
     "execution_count": 18,
     "metadata": {},
     "output_type": "execute_result"
    }
   ],
   "source": [
    "w -= learning_rate * gradients\n",
    "w"
   ]
  },
  {
   "cell_type": "markdown",
   "metadata": {},
   "source": [
    "針對更新過一次的 $w$ 可以得到一組 $\\hat{y}^{(train)}$："
   ]
  },
  {
   "cell_type": "code",
   "execution_count": 19,
   "metadata": {},
   "outputs": [
    {
     "data": {
      "text/plain": [
       "array([ 1.82972254,  3.22011191,  4.61050127,  6.00089064,  7.39128   ,\n",
       "        8.78166936, 10.17205873, 11.56244809, 12.95283745, 14.34322682])"
      ]
     },
     "execution_count": 19,
     "metadata": {},
     "output_type": "execute_result"
    }
   ],
   "source": [
    "y_hat = np.dot(X_train, w)\n",
    "y_hat"
   ]
  },
  {
   "cell_type": "markdown",
   "metadata": {},
   "source": [
    "更新過一次的 $w$ 所對應的均方誤差："
   ]
  },
  {
   "cell_type": "code",
   "execution_count": 20,
   "metadata": {},
   "outputs": [
    {
     "data": {
      "text/plain": [
       "1070.1192063534622"
      ]
     },
     "execution_count": 20,
     "metadata": {},
     "output_type": "execute_result"
    }
   ],
   "source": [
    "j = ((y_hat - y_train).T.dot(y_hat - y_train)) / m\n",
    "j"
   ]
  },
  {
   "cell_type": "markdown",
   "metadata": {},
   "source": [
    "從上述例子可以觀察到運用「梯度遞減」演算方法迭代更新係數向量的過程中，透過計算誤差函式關於係數向量的梯度決定更新的**方向性**，透過學習速率決定更新的**幅度**，在迭代進行一次之後，係數向右更新（增大）離真實的 $w^*$ 更接近了些、均方誤差也下降了些。"
   ]
  },
  {
   "cell_type": "markdown",
   "metadata": {},
   "source": [
    "## 自訂梯度遞減類別 GradientDescent\n",
    "\n",
    "我們可以依據梯度遞減自訂預測器類別，檢視迭代後的 $w$ 是否與後見之明視角的 $w_0 = 5$、$w_1 = 6$ 相近、均方誤差是否隨著迭代而下降。"
   ]
  },
  {
   "cell_type": "code",
   "execution_count": 21,
   "metadata": {},
   "outputs": [],
   "source": [
    "class GradientDescent:\n",
    "    \"\"\"\n",
    "    This class defines the vanilla gradient descent algorithm for linear regression.\n",
    "    Args:\n",
    "        fit_intercept (bool): Whether to add intercept for this model.\n",
    "    \"\"\"\n",
    "    def __init__(self, fit_intercept=True):\n",
    "        self._fit_intercept = fit_intercept\n",
    "    def find_gradient(self):\n",
    "        \"\"\"\n",
    "        This function returns the gradient given certain model weights.\n",
    "        \"\"\"\n",
    "        y_hat = np.dot(self._X_train, self._w)\n",
    "        gradient = (2/self._m) * np.dot(self._X_train.T, y_hat - self._y_train)\n",
    "        return gradient\n",
    "    def mean_squared_error(self):\n",
    "        \"\"\"\n",
    "        This function returns the mean squared error given certain model weights.\n",
    "        \"\"\"\n",
    "        y_hat = np.dot(self._X_train, self._w)\n",
    "        mse = ((y_hat - self._y_train).T.dot(y_hat - self._y_train)) / self._m\n",
    "        return mse\n",
    "    def fit(self, X_train, y_train, epochs=10000, learning_rate=0.001):\n",
    "        \"\"\"\n",
    "        This function uses vanilla gradient descent to solve for weights of this model.\n",
    "        Args:\n",
    "            X_train (ndarray): 2d-array for feature matrix of training data.\n",
    "            y_train (ndarray): 1d-array for target vector of training data.\n",
    "            epochs (int): The number of iterations to update the model weights.\n",
    "            learning_rate (float): The learning rate of gradient descent.\n",
    "        \"\"\"\n",
    "        self._X_train = X_train.copy()\n",
    "        self._y_train = y_train.copy()\n",
    "        self._m = self._X_train.shape[0]\n",
    "        if self._fit_intercept:\n",
    "            X0 = np.ones((self._m, 1), dtype=float)\n",
    "            self._X_train = np.concatenate([X0, self._X_train], axis=1)\n",
    "        n = self._X_train.shape[1]\n",
    "        self._w = np.random.rand(n)\n",
    "        n_prints = 10\n",
    "        print_iter = epochs // n_prints\n",
    "        w_history = dict()\n",
    "        for i in range(epochs):\n",
    "            current_w = self._w.copy()\n",
    "            w_history[i] = current_w\n",
    "            mse = self.mean_squared_error()\n",
    "            gradient = self.find_gradient()\n",
    "            if i % print_iter == 0:\n",
    "                print(\"epoch: {:6} - loss: {:.6f}\".format(i, mse))\n",
    "            self._w -= learning_rate*gradient\n",
    "        w_ravel = self._w.copy().ravel()\n",
    "        self.intercept_ = w_ravel[0]\n",
    "        self.coef_ = w_ravel[1:]\n",
    "        self._w_history = w_history\n",
    "    def predict(self, X_test):\n",
    "        \"\"\"\n",
    "        This function returns predicted values with weights of this model.\n",
    "        Args:\n",
    "            X_test (ndarray): 2d-array for feature matrix of test data.\n",
    "        \"\"\"\n",
    "        self._X_test = X_test\n",
    "        m = self._X_test.shape[0]\n",
    "        if self._fit_intercept:\n",
    "            X0 = np.ones((m, 1), dtype=float)\n",
    "            self._X_test = np.concatenate([X0, self._X_test], axis=1)\n",
    "        y_pred = np.dot(self._X_test, self._w)\n",
    "        return y_pred"
   ]
  },
  {
   "cell_type": "code",
   "execution_count": 22,
   "metadata": {},
   "outputs": [
    {
     "name": "stdout",
     "output_type": "stream",
     "text": [
      "epoch:      0 - loss: 1395.016289\n",
      "epoch:   2000 - loss: 0.467521\n",
      "epoch:   4000 - loss: 0.087119\n",
      "epoch:   6000 - loss: 0.016234\n",
      "epoch:   8000 - loss: 0.003025\n",
      "epoch:  10000 - loss: 0.000564\n",
      "epoch:  12000 - loss: 0.000105\n",
      "epoch:  14000 - loss: 0.000020\n",
      "epoch:  16000 - loss: 0.000004\n",
      "epoch:  18000 - loss: 0.000001\n"
     ]
    }
   ],
   "source": [
    "h = GradientDescent(fit_intercept=False)\n",
    "h.fit(X_train, y_train, epochs=20000, learning_rate=0.001)"
   ]
  },
  {
   "cell_type": "code",
   "execution_count": 23,
   "metadata": {},
   "outputs": [
    {
     "name": "stdout",
     "output_type": "stream",
     "text": [
      "4.9992312515155835\n",
      "[6.00011042]\n"
     ]
    }
   ],
   "source": [
    "print(h.intercept_) # 截距項\n",
    "print(h.coef_)      # 係數項"
   ]
  },
  {
   "cell_type": "markdown",
   "metadata": {},
   "source": [
    "最後我們將自訂的梯度遞減預測器類別應用在真實的 `players` 資料，並且與 Scikit-Learn 預測器類別、正規方程類別所求得的 $w$ 比對。"
   ]
  },
  {
   "cell_type": "code",
   "execution_count": 24,
   "metadata": {},
   "outputs": [
    {
     "name": "stdout",
     "output_type": "stream",
     "text": [
      "epoch:      0 - loss: 9727.248118\n",
      "epoch:  30000 - loss: 53.087449\n",
      "epoch:  60000 - loss: 49.159273\n",
      "epoch:  90000 - loss: 48.548584\n",
      "epoch: 120000 - loss: 48.453643\n",
      "epoch: 150000 - loss: 48.438884\n",
      "epoch: 180000 - loss: 48.436589\n",
      "epoch: 210000 - loss: 48.436232\n",
      "epoch: 240000 - loss: 48.436177\n",
      "epoch: 270000 - loss: 48.436168\n"
     ]
    }
   ],
   "source": [
    "X = players['heightMeters'].values.astype(float).reshape(-1, 1)\n",
    "y = players['weightKilograms'].values.astype(float)\n",
    "X_train, X_valid, y_train, y_valid = train_test_split(X, y, test_size=0.33, random_state=42)\n",
    "h = GradientDescent()\n",
    "h.fit(X_train, y_train, epochs=300000, learning_rate=0.01)"
   ]
  },
  {
   "cell_type": "code",
   "execution_count": 25,
   "metadata": {},
   "outputs": [
    {
     "name": "stdout",
     "output_type": "stream",
     "text": [
      "-104.2096510036928\n",
      "[101.81974607]\n"
     ]
    }
   ],
   "source": [
    "print(h.intercept_) # 截距項\n",
    "print(h.coef_)      # 係數項"
   ]
  },
  {
   "cell_type": "code",
   "execution_count": 26,
   "metadata": {},
   "outputs": [
    {
     "data": {
      "text/plain": [
       "array([107.57542082,  82.1204843 , 100.4480386 , 105.5390259 ,\n",
       "        95.35705129, 112.66640812,  92.30245891,  92.30245891,\n",
       "        97.39344621,  95.35705129])"
      ]
     },
     "execution_count": 26,
     "metadata": {},
     "output_type": "execute_result"
    }
   ],
   "source": [
    "# 預測\n",
    "y_pred = h.predict(X_valid)\n",
    "y_pred[:10]"
   ]
  },
  {
   "cell_type": "markdown",
   "metadata": {},
   "source": [
    "比對 $w$ 與前十筆預測值可以驗證自行定義的 `GradientDescent` 類別與 Scikit-Learn 求解的邏輯相近。\n",
    "\n",
    "我們用簡潔的一段話總結數值預測任務：面對屬於連續型的數值目標向量 $y$，讓電腦程式透過觀察訓練資料 $X^{(train)}$ 與 $y^{(train)}$，基於最小化 $y^{(train)}$ 與 $\\hat{y}^{(train)}$ 間的誤差 $J(w)$，透過正規方程或者梯度遞減的演算方法，尋找出係數向量 $w^*$ 建構出一個 $h(X; w^*)$ 去近似假設存在能完美對應 $X$ 和 $y$ 的 $f$。"
   ]
  },
  {
   "cell_type": "markdown",
   "metadata": {},
   "source": [
    "## 標準化與進階的梯度遞減\n",
    "\n",
    "目前自行定義的 `GradientDescent` 類別是屬於單純的最適化手法，為什麼用「單純」來形容？我們再回顧梯度遞減的核心概念：\n",
    "\n",
    "\\begin{equation}\n",
    "w := w - \\alpha \\frac{\\partial J}{\\partial w}\n",
    "\\end{equation}\n",
    "\n",
    "在這個演算方法可以清楚觀察到 $w$ 的更新依據有兩個：學習速率 $\\alpha$ 與梯度 $\\frac{\\partial J}{\\partial w}$，其中學習速率使用一個事先決定的常數，在訓練過程固定不變，梯度也是該次迭代當下的快照；在這樣的設計理念之下，當 $w_i$ 彼此的量值級距差距大，將會發生不效率的最適化。以跑步來比喻，在短距離的場地賽應該要穿著釘鞋與使用九成最大攝氧量的配速競賽、在長距離的路跑賽應該要穿著厚底鞋與使用七成最大攝氧量的配速競賽，然而使用固定的學習速率、只考慮單下的梯度，就像是用同一套裝備與配速去面對距離不同的賽事一般，無法有出色的表現。以 [Kaggle](https://www.kaggle.com/) 網站所下載回來的[艾姆斯房價](https://www.kaggle.com/c/house-prices-advanced-regression-techniques)資料為例，若以其中的 `GrLivArea` 作為特徵矩陣來預測目標向量 `SalePrice`，以 Scikit-Learn 的 `LinearRegression` 預測器類別可以獲知 $w^*$。"
   ]
  },
  {
   "cell_type": "code",
   "execution_count": 27,
   "metadata": {},
   "outputs": [
    {
     "name": "stdout",
     "output_type": "stream",
     "text": [
      "30774.037736162078\n",
      "[98.50395317]\n"
     ]
    }
   ],
   "source": [
    "train = pd.read_csv(\"https://kaggle-getting-started.s3-ap-northeast-1.amazonaws.com/house-prices/train.csv\")\n",
    "X = train['GrLivArea'].values.reshape(-1, 1)\n",
    "y = train['SalePrice'].values\n",
    "X_train, X_valid, y_train, y_valid = train_test_split(X, y, test_size=0.33, random_state=42)\n",
    "lr = LinearRegression()\n",
    "lr.fit(X_train, y_train)\n",
    "print(lr.intercept_)\n",
    "print(lr.coef_)"
   ]
  },
  {
   "cell_type": "markdown",
   "metadata": {},
   "source": [
    "如果使用自行定義的 `GradientDescent` 類別，會發現不論怎麼調整學習速率、增加訓練的迭代次數，$w$ 都離理想值距離甚遠。"
   ]
  },
  {
   "cell_type": "code",
   "execution_count": 28,
   "metadata": {},
   "outputs": [
    {
     "name": "stdout",
     "output_type": "stream",
     "text": [
      "epoch:      0 - loss: 38051606006.512634\n",
      "epoch:  50000 - loss: 3240902379.450190\n",
      "epoch: 100000 - loss: 3240693358.485150\n",
      "epoch: 150000 - loss: 3240484776.905393\n",
      "epoch: 200000 - loss: 3240276633.787285\n",
      "epoch: 250000 - loss: 3240068928.209129\n",
      "epoch: 300000 - loss: 3239861659.251170\n",
      "epoch: 350000 - loss: 3239654825.995579\n",
      "epoch: 400000 - loss: 3239448427.526465\n",
      "epoch: 450000 - loss: 3239242462.929857\n"
     ]
    }
   ],
   "source": [
    "h = GradientDescent()\n",
    "h.fit(X_train, y_train, epochs=500000, learning_rate=1e-7) # 無法使用更大的學習速率，誤差會高到發生溢位"
   ]
  },
  {
   "cell_type": "code",
   "execution_count": 29,
   "metadata": {},
   "outputs": [
    {
     "name": "stdout",
     "output_type": "stream",
     "text": [
      "322.21983727161654\n",
      "[116.36489226]\n"
     ]
    }
   ],
   "source": [
    "print(h.intercept_)\n",
    "print(h.coef_)"
   ]
  },
  {
   "cell_type": "code",
   "execution_count": 30,
   "metadata": {},
   "outputs": [],
   "source": [
    "def plot_contour(X_train, y_train, w_history, w_0_min, w_0_max, w_1_min, w_1_max, w_0_star, w_1_star):\n",
    "    m = X_train.shape[0]\n",
    "    X0 = np.ones((m, 1), dtype=float)\n",
    "    X_train = np.concatenate([X0, X_train], axis=1)\n",
    "    resolution = 100\n",
    "    W_0, W_1 = np.meshgrid(np.linspace(w_0_min, w_0_max, resolution), np.linspace(w_1_min, w_1_max, resolution))\n",
    "    Z = np.zeros((resolution, resolution))\n",
    "    for i in range(resolution):\n",
    "        for j in range(resolution):\n",
    "            w = np.array([W_0[i, j], W_1[i, j]])\n",
    "            y_hat = np.dot(X_train, w)\n",
    "            mse = ((y_hat - y_train).T.dot(y_hat - y_train)) / m\n",
    "            Z[i, j] = mse\n",
    "    epochs = len(w_history)\n",
    "    w_0_history = []\n",
    "    w_1_history = []\n",
    "    for i in range(epochs):\n",
    "        w_0_history.append(w_history[i][0])\n",
    "        w_1_history.append(w_history[i][1])\n",
    "    fig, ax = plt.subplots()\n",
    "    CS = ax.contour(W_0, W_1, Z)\n",
    "    ax.clabel(CS, inline=1, fontsize=10)\n",
    "    ax.plot(w_0_history, w_1_history, \"-\", color=\"blue\")\n",
    "    ax.scatter(w_0_star, w_1_star, marker=\"*\", color=\"red\")\n",
    "    ax.set_xlabel(\"$w_0$\")\n",
    "    ax.set_ylabel(\"$w_1$\", rotation=0)\n",
    "    plt.show()"
   ]
  },
  {
   "cell_type": "markdown",
   "metadata": {},
   "source": [
    "這就像是我們先前比喻，沒有針對賽事狀況調整的跑者，在應該加大更新幅度的 $w_0$（平坦的賽道）卻用了和應該縮減更新幅度的 $w_1$（陡峭的賽道）一樣的配速或者裝備。"
   ]
  },
  {
   "cell_type": "code",
   "execution_count": 31,
   "metadata": {},
   "outputs": [
    {
     "data": {
      "image/png": "[encoded data removed]",
      "text/plain": [
       "<Figure size 432x288 with 1 Axes>"
      ]
     },
     "metadata": {
      "needs_background": "light"
     },
     "output_type": "display_data"
    }
   ],
   "source": [
    "w_history = h._w_history\n",
    "plot_contour(X_train, y_train, w_history, -5000, 35000, -10, 200, lr.intercept_, lr.coef_[0])"
   ]
  },
  {
   "cell_type": "markdown",
   "metadata": {},
   "source": [
    "欲使用梯度遞減來進行最適化，通常會搭配兩種技法來增加效率：\n",
    "\n",
    "1. 特徵矩陣的標準化（Standardization）\n",
    "2. 進階的梯度遞減演算方法\n",
    "\n",
    "特徵矩陣的標準化可以使用在機器學習入門章節介紹過的 Scikit-Learn 轉換器：最小最大標準化（Min-max scaler），標準化後得到的 $w^{(scaled)}$ 要再記得實施「逆」轉換。\n",
    "\n",
    "\\begin{align}\n",
    "\\hat{y} &= X^{(scaled)} w^{(scaled)} \\\\\n",
    "&= w_0^{(scaled)}x_0 + \\sum_i w_i^{(scaled)} x_i^{(scaled)} \\\\\n",
    "&= w_0^{(scaled)} + \\sum_i w_i^{(scaled)} \\frac{x_i - x_i^{(min)}}{x_i^{(max)} - x_i^{(min)}}\n",
    "\\end{align}\n",
    "\n",
    "\\begin{align}\n",
    "w_0 &= w_0^{(scaled)} - \\sum_{i=1} w_i^{(scaled)} \\frac{x_i^{(min)}}{x_i^{(max)} - x_i^{(min)}} \\\\\n",
    "w_i &= \\sum_{i=1} \\frac{w_i^{(scaled)}}{x_i^{(max)} - x_i^{(min)}}\n",
    "\\end{align}\n",
    "\n",
    "將已經過最小最大標準化後的特徵矩陣輸入預測器類別訓練，就能得到的 $w^{(scaled)}$。"
   ]
  },
  {
   "cell_type": "code",
   "execution_count": 32,
   "metadata": {},
   "outputs": [
    {
     "name": "stdout",
     "output_type": "stream",
     "text": [
      "63674.358095820746\n",
      "[522858.98344032]\n"
     ]
    }
   ],
   "source": [
    "mms = MinMaxScaler()\n",
    "X_scaled = mms.fit_transform(X)\n",
    "y = train['SalePrice'].values\n",
    "X_train, X_valid, y_train, y_valid = train_test_split(X_scaled, y, test_size=0.33, random_state=42)\n",
    "lr = LinearRegression()\n",
    "lr.fit(X_train, y_train)\n",
    "print(lr.intercept_) # 截距項\n",
    "print(lr.coef_)      # 係數項"
   ]
  },
  {
   "cell_type": "code",
   "execution_count": 33,
   "metadata": {},
   "outputs": [
    {
     "name": "stdout",
     "output_type": "stream",
     "text": [
      "epoch:      0 - loss: 38574561936.864601\n",
      "epoch:  10000 - loss: 3197795837.637498\n",
      "epoch:  20000 - loss: 3142864604.714557\n",
      "epoch:  30000 - loss: 3141503145.580052\n",
      "epoch:  40000 - loss: 3141469402.099771\n",
      "epoch:  50000 - loss: 3141468565.774660\n",
      "epoch:  60000 - loss: 3141468545.046516\n",
      "epoch:  70000 - loss: 3141468544.532774\n",
      "epoch:  80000 - loss: 3141468544.520041\n",
      "epoch:  90000 - loss: 3141468544.519726\n",
      "63674.3591206031\n",
      "[522858.97891743]\n"
     ]
    }
   ],
   "source": [
    "h = GradientDescent()\n",
    "h.fit(X_train, y_train, epochs=100000, learning_rate=0.01)\n",
    "print(h.intercept_) # 截距項\n",
    "print(h.coef_)      # 係數項"
   ]
  },
  {
   "cell_type": "markdown",
   "metadata": {},
   "source": [
    "接著依照「逆」標準化回推 $w$，發現在最小最大標準化之後，就能順利以自定義的 `GradientDescent` 類別進行梯度遞減。"
   ]
  },
  {
   "cell_type": "code",
   "execution_count": 34,
   "metadata": {},
   "outputs": [
    {
     "name": "stdout",
     "output_type": "stream",
     "text": [
      "[30774.03904554]\n",
      "[98.50395232]\n"
     ]
    }
   ],
   "source": [
    "intercept_rescaled = h.intercept_ - (h.coef_ * mms.data_min_ / mms.data_range_)\n",
    "coef_rescaled = h.coef_ / mms.data_range_\n",
    "print(intercept_rescaled) # 截距項\n",
    "print(coef_rescaled)      # 係數項"
   ]
  },
  {
   "cell_type": "markdown",
   "metadata": {},
   "source": [
    "或者常態標準化（Standard scaler），同樣要記得對 $w^{(scaled)}$ 實施「逆」轉換。\n",
    "\n",
    "\\begin{align}\n",
    "\\hat{y} &= X^{(scaled)} w^{(scaled)} \\\\\n",
    "&= w_0^{(scaled)}x_0 + \\sum_i w_i^{(scaled)} x_i^{(scaled)} \\\\\n",
    "&= w_0^{(scaled)} + \\sum_i w_i^{(scaled)} \\frac{x_i - \\mu_{x_i}}{\\sigma_{x_i}}\n",
    "\\end{align}\n",
    "\n",
    "\\begin{align}\n",
    "w_0 &= w_0^{(scaled)} - \\sum_{i=1} w_i^{(scaled)} \\frac{\\mu_{x_i}}{\\sigma_{x_i}} \\\\\n",
    "w_i &= \\sum_{i=1} \\frac{w_i^{(scaled)}}{\\sigma_{x_i}}\n",
    "\\end{align}\n",
    "\n",
    "將已經過常態標準化後的特徵矩陣輸入預測器類別訓練，就能得到的 $w^{(scaled)}$。"
   ]
  },
  {
   "cell_type": "code",
   "execution_count": 35,
   "metadata": {},
   "outputs": [
    {
     "name": "stdout",
     "output_type": "stream",
     "text": [
      "180053.20294084703\n",
      "[51744.16536903]\n"
     ]
    }
   ],
   "source": [
    "ss = StandardScaler()\n",
    "X_scaled = ss.fit_transform(X)\n",
    "X_train, X_valid, y_train, y_valid = train_test_split(X_scaled, y, test_size=0.33, random_state=42)\n",
    "lr = LinearRegression()\n",
    "lr.fit(X_train, y_train)\n",
    "print(lr.intercept_) # 截距項\n",
    "print(lr.coef_)      # 係數項"
   ]
  },
  {
   "cell_type": "code",
   "execution_count": 36,
   "metadata": {},
   "outputs": [
    {
     "name": "stdout",
     "output_type": "stream",
     "text": [
      "epoch:      0 - loss: 38574730599.218040\n",
      "epoch:   1000 - loss: 3763987629.644883\n",
      "epoch:   2000 - loss: 3152443788.694848\n",
      "epoch:   3000 - loss: 3141662791.806108\n",
      "epoch:   4000 - loss: 3141471997.043127\n",
      "epoch:   5000 - loss: 3141468606.167773\n",
      "epoch:   6000 - loss: 3141468545.625978\n",
      "epoch:   7000 - loss: 3141468544.539675\n",
      "epoch:   8000 - loss: 3141468544.520079\n",
      "epoch:   9000 - loss: 3141468544.519723\n",
      "180053.2025929845\n",
      "[51744.16539333]\n"
     ]
    }
   ],
   "source": [
    "h = GradientDescent()\n",
    "h.fit(X_train, y_train, epochs=10000, learning_rate=0.001)\n",
    "print(h.intercept_) # 截距項\n",
    "print(h.coef_)      # 係數項"
   ]
  },
  {
   "cell_type": "markdown",
   "metadata": {},
   "source": [
    "接著依照「逆」標準化回推 $w$，發現在常態標準化之後，就能順利以自定義的 `GradientDescent` 類別進行梯度遞減。"
   ]
  },
  {
   "cell_type": "code",
   "execution_count": 37,
   "metadata": {},
   "outputs": [
    {
     "name": "stdout",
     "output_type": "stream",
     "text": [
      "[30774.0373182]\n",
      "[98.50395322]\n"
     ]
    }
   ],
   "source": [
    "intercept_rescaled = h.intercept_ - h.coef_ * ss.mean_ / ss.scale_\n",
    "coef_rescaled = h.coef_ / ss.scale_\n",
    "print(intercept_rescaled) # 截距項\n",
    "print(coef_rescaled)      # 係數項"
   ]
  },
  {
   "cell_type": "markdown",
   "metadata": {},
   "source": [
    "另外一種為單純的梯度遞減增加效率的手法是進階的梯度遞減，這些演算方法目前仍處於蓬勃發展的階段，已經廣泛被資料科學家、機器學習工程師應用的有 Momentum、AdaGrad(Adaptive Gradient Descent)、RMSprop(Root mean square propagation)與 Adam(Adaptive moment estimation)。與單純梯度遞減相較，各個進階梯度遞減都試著從學習速率與梯度這兩方面著手調整，其一是引進調適的學習速率（Adaptive methods），如果距離 $J(w)$ 低點遠就用大的學習速率、反之距離近就用小的學習速率；其二是記錄從訓練開始的梯度量值，藉由過去已實現的梯度來判斷和 $J(w)$ 低點的相對位置，如果歷史梯度都很大，表示離低點遠，如果歷史梯度都很小，表示離低點進。就像是一個懂得在不同距離賽事、穿著適當裝備以及使用相應配速的跑者（在中距離場地賽穿著釘鞋與使用九成最大攝氧量配速、在長距離路跑賽穿著厚底鞋與使用七成最大攝氧量配速）。\n",
    "\n",
    "我們簡單地以 AdaGrad 為例，AdaGrad 將原本單純梯度遞減的式子改寫為：\n",
    "\n",
    "\\begin{equation}\n",
    "ssg = \\sum^{t-1} (\\frac{\\partial J}{\\partial w})^2\n",
    "\\end{equation}\n",
    "\n",
    "\\begin{equation}\n",
    "w := w -\\alpha \\frac{1}{\\epsilon + \\sqrt{ssg}} \\frac{\\partial J}{\\partial w}\n",
    "\\end{equation}\n",
    "\n",
    "\\begin{equation}\n",
    "where \\; \\epsilon = 10^{-6}\n",
    "\\end{equation}\n",
    "\n",
    "AdaGrad 演算方法針對不同 $w_i$ 記錄其歷史梯度的平方和藉此來調適學習速率，因為放在分母的緣故，當歷史梯度的平方和愈大，會調降學習速率；反之當歷史梯度的平方和愈小，會調升學習速率，$\\epsilon$ 會設定一個極小值（例如 `tf.keras` 使用 `1e-06`）避免分母為零的情況發生。\n",
    "\n",
    "自定義一個 `AdaGrad` 類別繼承 `GradientDescent` 類別並改寫其 `fit()` 方法由原本的單純梯度遞減變為 AdaGrad。"
   ]
  },
  {
   "cell_type": "code",
   "execution_count": 38,
   "metadata": {},
   "outputs": [],
   "source": [
    "class AdaGrad(GradientDescent):\n",
    "    \"\"\"\n",
    "    This class defines the Adaptive Gradient Descent algorithm for linear regression.\n",
    "    \"\"\"\n",
    "    def fit(self, X_train, y_train, epochs=10000, learning_rate=0.01, epsilon=1e-06):\n",
    "        self._X_train = X_train.copy()\n",
    "        self._y_train = y_train.copy()\n",
    "        self._m = self._X_train.shape[0]\n",
    "        if self._fit_intercept:\n",
    "            X0 = np.ones((self._m, 1), dtype=float)\n",
    "            self._X_train = np.concatenate([X0, self._X_train], axis=1)\n",
    "        n = self._X_train.shape[1]\n",
    "        self._w = np.random.rand(n)\n",
    "        # 初始化 ssg\n",
    "        ssg = np.zeros(n, dtype=float)\n",
    "        n_prints = 10\n",
    "        print_iter = epochs // n_prints\n",
    "        w_history = dict()\n",
    "        for i in range(epochs):\n",
    "            current_w = self._w.copy()\n",
    "            w_history[i] = current_w\n",
    "            mse = self.mean_squared_error()\n",
    "            gradient = self.find_gradient()\n",
    "            ssg += gradient**2\n",
    "            ada_grad = gradient / (epsilon + ssg**0.5)\n",
    "            if i % print_iter == 0:\n",
    "                print(\"epoch: {:6} - loss: {:.6f}\".format(i, mse))\n",
    "            # 以 adaptive gradient 更新 w\n",
    "            self._w -= learning_rate*ada_grad\n",
    "        w_ravel = self._w.copy().ravel()\n",
    "        self.intercept_ = w_ravel[0]\n",
    "        self.coef_ = w_ravel[1:]\n",
    "        self._w_history = w_history"
   ]
  },
  {
   "cell_type": "code",
   "execution_count": 39,
   "metadata": {},
   "outputs": [
    {
     "name": "stdout",
     "output_type": "stream",
     "text": [
      "30774.037736162078\n",
      "[98.50395317]\n"
     ]
    }
   ],
   "source": [
    "X_train, X_valid, y_train, y_valid = train_test_split(X, y, test_size=0.33, random_state=42)\n",
    "lr = LinearRegression()\n",
    "lr.fit(X_train, y_train)\n",
    "print(lr.intercept_) # 截距項\n",
    "print(lr.coef_)      # 係數項"
   ]
  },
  {
   "cell_type": "code",
   "execution_count": 40,
   "metadata": {},
   "outputs": [
    {
     "name": "stdout",
     "output_type": "stream",
     "text": [
      "epoch:      0 - loss: 38445917993.077576\n",
      "epoch:  50000 - loss: 3146435374.819119\n",
      "epoch: 100000 - loss: 3141887793.680318\n",
      "epoch: 150000 - loss: 3141504799.902792\n",
      "epoch: 200000 - loss: 3141471686.153493\n",
      "epoch: 250000 - loss: 3141468816.799205\n",
      "epoch: 300000 - loss: 3141468568.118027\n",
      "epoch: 350000 - loss: 3141468546.564972\n",
      "epoch: 400000 - loss: 3141468544.696979\n",
      "epoch: 450000 - loss: 3141468544.535080\n",
      "30773.92524140127\n",
      "[98.50401916]\n"
     ]
    }
   ],
   "source": [
    "h = AdaGrad()\n",
    "h.fit(X_train, y_train, epochs=500000, learning_rate=100)\n",
    "print(h.intercept_) # 截距項\n",
    "print(h.coef_)      # 係數項"
   ]
  },
  {
   "cell_type": "code",
   "execution_count": 41,
   "metadata": {},
   "outputs": [
    {
     "data": {
      "image/png": "[encoded data removed]",
      "text/plain": [
       "<Figure size 432x288 with 1 Axes>"
      ]
     },
     "metadata": {
      "needs_background": "light"
     },
     "output_type": "display_data"
    }
   ],
   "source": [
    "w_history = h._w_history\n",
    "plot_contour(X_train, y_train, w_history, -5000, 35000, -10, 200, lr.intercept_, lr.coef_[0])"
   ]
  },
  {
   "cell_type": "markdown",
   "metadata": {},
   "source": [
    "改採用 `AdaGrad` 類別後發現即便沒有進行特徵矩陣的標準化，也能夠順利最適化 $w$。在實際採用梯度遞減進行最適化時，通常會將標準化與進階演算手法兩者搭配運作，這也是為什麼在 [Kaggle](https://www.kaggle.com/) 網站上看到很多採用高階機器學習框架的專案範例，都會對特徵矩陣做標準化並指定參數 `optimizer` 為 `RMSprop`、`Adam` 或 `Adagrad` 的緣由。 "
   ]
  },
  {
   "cell_type": "markdown",
   "metadata": {},
   "source": [
    "## 延伸閱讀\n",
    "\n",
    "1. Machine Learning Basics. In: Ian Goodfellow ,Yoshua Bengio, and Aaron Courville, Deep Learning (https://www.amazon.com/Deep-Learning-Adaptive-Computation-Machine/dp/0262035618/)\n",
    "2. Sebastian Ruder: An overview of gradient descent optimization algorithms (https://ruder.io/optimizing-gradient-descent/index.html)\n",
    "3. Training Models. In: Aurélien Géron, Hands-On Machine Learning with Scikit-Learn, Keras, and TensorFlow (https://www.amazon.com/Hands-Machine-Learning-Scikit-Learn-TensorFlow/dp/1492032646/)\n",
    "4. Normal Equation (http://mlwiki.org/index.php/Normal_Equation)\n",
    "5. Computational complexity (https://en.wikipedia.org/wiki/Computational_complexity)\n",
    "6. Gradient descent (https://en.wikipedia.org/wiki/Gradient_descent)"
   ]
  }
 ],
 "metadata": {
  "kernelspec": {
   "display_name": "Python Machine Learning",
   "language": "python",
   "name": "pyml"
  },
  "language_info": {
   "codemirror_mode": {
    "name": "ipython",
    "version": 3
   },
   "file_extension": ".py",
   "mimetype": "text/x-python",
   "name": "python",
   "nbconvert_exporter": "python",
   "pygments_lexer": "ipython3",
   "version": "3.6.8"
  }
 },
 "nbformat": 4,
 "nbformat_minor": 4
}
