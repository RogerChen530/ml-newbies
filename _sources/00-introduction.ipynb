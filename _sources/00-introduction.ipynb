{
 "cells": [
  {
   "cell_type": "markdown",
   "metadata": {},
   "source": [
    "# 關於視覺化與機器學習\n",
    "\n",
    "## 何謂視覺化\n",
    "\n",
    "> I know having the data is not enough, I have to show it in a way that people both enjoy and understand.\n",
    ">\n",
    "> Hans Rosling\n",
    "\n",
    "## 為何視覺化\n",
    "\n",
    "## 何謂機器學習\n",
    "\n",
    "> A computer program is said to learn from experience E with respect to some class of tasks T and performance measure P if its performance at tasks in T, as measured by P, improves with experience E.\n",
    "> \n",
    "> Tom Mitchel\n",
    "\n",
    "## 為何機器學習\n",
    "\n",
    "## 摻在一起效果加乘"
   ]
  },
  {
   "cell_type": "markdown",
   "metadata": {},
   "source": [
    "## 本書所使用的 Python 版本"
   ]
  },
  {
   "cell_type": "code",
   "execution_count": 1,
   "metadata": {},
   "outputs": [
    {
     "name": "stdout",
     "output_type": "stream",
     "text": [
      "本書所使用的 Python 版本為：\n",
      "3.6.8 (v3.6.8:3c6b436a57, Dec 24 2018, 02:04:31) \n",
      "[GCC 4.2.1 Compatible Apple LLVM 6.0 (clang-600.0.57)]\n"
     ]
    }
   ],
   "source": [
    "import sys\n",
    "\n",
    "print(\"本書所使用的 Python 版本為：\")\n",
    "print(sys.version)"
   ]
  },
  {
   "cell_type": "markdown",
   "metadata": {},
   "source": [
    "## 本書所使用的第三方套件模組版本"
   ]
  },
  {
   "cell_type": "code",
   "execution_count": 2,
   "metadata": {},
   "outputs": [
    {
     "name": "stdout",
     "output_type": "stream",
     "text": [
      "本書所使用的 NumPy 版本為 1.18.0\n",
      "本書所使用的 Pandas 版本為 1.0.0\n",
      "本書所使用的 Matplotlib 版本為 3.2.0\n",
      "本書所使用的 Scikit-Learn 版本為 0.22\n",
      "本書所使用的 TensorFlow 版本為 2.2.0\n"
     ]
    }
   ],
   "source": [
    "import numpy as np\n",
    "import pandas as pd\n",
    "import matplotlib as mpl\n",
    "import sklearn\n",
    "import tensorflow as tf\n",
    "\n",
    "library_names = ['NumPy', 'Pandas', 'Matplotlib', 'Scikit-Learn', 'TensorFlow']\n",
    "library_versions = [np.__version__, pd.__version__, mpl.__version__, sklearn.__version__, tf.__version__]\n",
    "for lib_n, lib_v in zip(library_names, library_versions):\n",
    "    print(\"本書所使用的 {} 版本為 {}\".format(lib_n, lib_v))"
   ]
  }
 ],
 "metadata": {
  "kernelspec": {
   "display_name": "Python Machine Learning",
   "language": "python",
   "name": "pyml"
  },
  "language_info": {
   "codemirror_mode": {
    "name": "ipython",
    "version": 3
   },
   "file_extension": ".py",
   "mimetype": "text/x-python",
   "name": "python",
   "nbconvert_exporter": "python",
   "pygments_lexer": "ipython3",
   "version": "3.6.8"
  }
 },
 "nbformat": 4,
 "nbformat_minor": 4
}
