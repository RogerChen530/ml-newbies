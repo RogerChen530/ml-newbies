{
 "cells": [
  {
   "cell_type": "markdown",
   "metadata": {},
   "source": [
    "# 表現的評估\n",
    "\n",
    "我們先載入這個章節範例程式碼中會使用到的第三方套件、模組或者其中的部分類別、函式。"
   ]
  },
  {
   "cell_type": "code",
   "execution_count": 1,
   "metadata": {},
   "outputs": [],
   "source": [
    "from pyvizml import CreateNBAData\n",
    "from datetime import datetime\n",
    "import requests\n",
    "import numpy as np\n",
    "import pandas as pd\n",
    "import matplotlib.pyplot as plt\n",
    "from sklearn.preprocessing import PolynomialFeatures\n",
    "from sklearn.linear_model import LinearRegression\n",
    "from sklearn.linear_model import Ridge\n",
    "from sklearn.linear_model import LogisticRegression\n",
    "from sklearn.model_selection import train_test_split\n",
    "from sklearn.model_selection import KFold\n",
    "from sklearn.metrics import mean_squared_error\n",
    "from sklearn.metrics import mean_absolute_error\n",
    "from sklearn.metrics import confusion_matrix\n",
    "from sklearn.metrics import accuracy_score\n",
    "from sklearn.metrics import precision_score\n",
    "from sklearn.metrics import recall_score\n",
    "from sklearn.metrics import f1_score"
   ]
  },
  {
   "cell_type": "markdown",
   "metadata": {},
   "source": [
    "## 如何評估機器學習演算方法\n",
    "\n",
    "評估機器學習演算方法是否能夠針對特定任務（包含數值預測、類別預測）運作，必須設計能夠量化演算方法表現的指標。評估迴歸模型與分類器表現的指標與尋找係數向量 $w$ 藉此創建出 $h(X; w)$ 的原理相同，差別在於究竟要比對哪一組目標向量 $y$？\n",
    "\n",
    "我們找尋係數向量的依據，乃是基於最小化 $y^{(train)}$ 與 $\\hat{y}^{(train)}$ 之間的誤差，，其中數值預測任務是以均方誤差（Mean squared error, MSE）來表示，$m$ 代表觀測值筆數。\n",
    "\n",
    "\\begin{equation}\n",
    "Minimize \\; \\frac{1}{m}\\sum_{i}{(y^{(train)}_i - \\hat{y_i}^{(train)})^2}\n",
    "\\end{equation}\n",
    "\n",
    "類別預測任務則是以誤分類數（Error）來表示。\n",
    "\n",
    "\\begin{equation}\n",
    "Minimize \\; \\sum_{i} \\mid y^{(train)}_i \\neq \\hat{y_i}^{(train)} \\mid\n",
    "\\end{equation}\n",
    "\n",
    "這是因為機器學習**假設**存在了一個函式 $f$ 能夠完美描述特徵矩陣與目標向量的關係，但我們不能夠將**假設**存在的 $f$ 拿來與創建出的 $h$ 擺在桌面上比較，因此藉由比較 $y^{(train)}$ 與 $\\hat{y}^{(train)}$ 來達成。評估迴歸模型與分類器的表現同樣是比較預測目標向量與實際目標向量之間的誤差，但是改為驗證資料或測試資料的目標向量。數值預測任務的表現評估以均方誤差衡量，$m$ 代表觀測值筆數。\n",
    "\n",
    "\\begin{equation}\n",
    "MSE_{valid} = \\frac{1}{m}\\sum_{i}{(y^{(valid)}_i - \\hat{y_i}^{(valid)})^2}\n",
    "\\end{equation}\n",
    "\n",
    "類別預測任務的表現評估以誤分類數衡量。\n",
    "\n",
    "\\begin{equation}\n",
    "Error_{valid} = \\sum_{i} \\mid y^{(valid)}_i \\neq \\hat{y_i}^{(valid)} \\mid\n",
    "\\end{equation}\n",
    "\n",
    "機器學習專案中的訓練、驗證來自具備已實現數值或標籤資料集，測試則來自未實現數值或標籤資料集；迴歸模型與分類器在從未見過的測試資料上之表現將決定它被部署到正式環境開始運作時的成敗，在現實世界中要評估機器學習演算方法在測試資料上的表現，在時間與金錢成本上都比在驗證資料上實施來得高出許多，像是設計類似實驗組與對照組的測試環境、等待一段時間才會實現數值或標籤。\n",
    "\n",
    "挑選機器學習演算方法的評估指標除了與任務種類相關，也與模型的應用場景有關，例如即便同屬於疾病的檢測分類模型，針對傳染疾病或罕見疾病所選擇的指標就有可能不同，這是由於和「誤分類」所衍生出的成本連動所致。"
   ]
  },
  {
   "cell_type": "markdown",
   "metadata": {},
   "source": [
    "## 評估數值預測任務的表現\n",
    "\n",
    "數值預測任務的表現評估以均方誤差來衡量 $y^{(valid)}$ 與 $\\hat{y}^{(valid)}$ 之間的差異，均方誤差愈大推論 $h_w$ 跟 $f$ 的相似度愈低，反之均方誤差愈小推論 $h$ 與 $f$ 的相似度愈高。使用 Scikit-Learn 定義好的 `mean_squared_error` 函式可以協助我們計算兩個目標向量之間的均方誤差。"
   ]
  },
  {
   "cell_type": "code",
   "execution_count": 2,
   "metadata": {},
   "outputs": [
    {
     "name": "stdout",
     "output_type": "stream",
     "text": [
      "Creating players df...\n",
      "Creating players df...\n",
      "Creating player stats df...\n"
     ]
    }
   ],
   "source": [
    "# create_player_stats_df() 方法要對 data.nba.net 發出數百次的 HTTP 請求，等待時間會較長，要請讀者耐心等候\n",
    "cnd = CreateNBAData(season_year=2019)\n",
    "player_stats = cnd.create_player_stats_df()"
   ]
  },
  {
   "cell_type": "code",
   "execution_count": 3,
   "metadata": {},
   "outputs": [
    {
     "data": {
      "text/plain": [
       "52.74701649791643"
      ]
     },
     "execution_count": 3,
     "metadata": {},
     "output_type": "execute_result"
    }
   ],
   "source": [
    "X = player_stats['heightMeters'].values.astype(float).reshape(-1, 1)\n",
    "y = player_stats['weightKilograms'].values.astype(float)\n",
    "X_train, X_valid, y_train, y_valid = train_test_split(X, y, test_size=0.33, random_state=42)\n",
    "h = LinearRegression()\n",
    "h.fit(X_train, y_train)\n",
    "y_pred = h.predict(X_valid)\n",
    "mse_valid = mean_squared_error(y_valid, y_pred)\n",
    "mse_valid"
   ]
  },
  {
   "cell_type": "markdown",
   "metadata": {},
   "source": [
    "亦可以自訂均方誤差的函式。"
   ]
  },
  {
   "cell_type": "code",
   "execution_count": 4,
   "metadata": {},
   "outputs": [],
   "source": [
    "def meanSquaredError(y_true, y_pred):\n",
    "    error = (y_true - y_pred)\n",
    "    squared_error = error**2\n",
    "    mean_squared_error = np.mean(squared_error)\n",
    "    return mean_squared_error"
   ]
  },
  {
   "cell_type": "code",
   "execution_count": 5,
   "metadata": {},
   "outputs": [
    {
     "data": {
      "text/plain": [
       "52.74701649791643"
      ]
     },
     "execution_count": 5,
     "metadata": {},
     "output_type": "execute_result"
    }
   ],
   "source": [
    "mse_valid = meanSquaredError(y_valid, y_pred)\n",
    "mse_valid"
   ]
  },
  {
   "cell_type": "markdown",
   "metadata": {},
   "source": [
    "另外一個也常被用來評估數值預測任務表現的指標是平均絕對誤差（Mean absolute error），平均絕對誤差和均方誤差相同之處在於他們都能精確捕捉預測失準的量值，無論是低估或者高估，經過平方或絕對值的運算都會成為正數被詳實地累積起來；相異之處在於均方誤差對於預測失準較多的離群值（Outliers）具有放大的效果（平方），而平均絕對誤差則不具有這樣類似加權的效果，因此當離群值在任務預測失準所衍生的成本也大幅上升的應用場景中，就比平均絕對誤差更適合使用，表示迴歸模型的選擇和調校上會傾向避免預測失準較多的情況。\n",
    "\n",
    "使用 Scikit-Learn 定義好的 `mean_absolute_error` 函式可以協助我們計算兩個目標向量之間的平均絕對誤差。"
   ]
  },
  {
   "cell_type": "code",
   "execution_count": 6,
   "metadata": {},
   "outputs": [
    {
     "data": {
      "text/plain": [
       "5.251994295197642"
      ]
     },
     "execution_count": 6,
     "metadata": {},
     "output_type": "execute_result"
    }
   ],
   "source": [
    "mae_valid = mean_absolute_error(y_valid, y_pred)\n",
    "mae_valid"
   ]
  },
  {
   "cell_type": "markdown",
   "metadata": {},
   "source": [
    "亦可以自訂平均絕對誤差的函式。"
   ]
  },
  {
   "cell_type": "code",
   "execution_count": 7,
   "metadata": {},
   "outputs": [],
   "source": [
    "def meanAbsoluteError(y_true, y_pred):\n",
    "    error = (y_true - y_pred)\n",
    "    absolute_error = np.abs(error)\n",
    "    mean_absolute_error = np.mean(absolute_error)\n",
    "    return mean_absolute_error"
   ]
  },
  {
   "cell_type": "code",
   "execution_count": 8,
   "metadata": {},
   "outputs": [
    {
     "data": {
      "text/plain": [
       "5.251994295197642"
      ]
     },
     "execution_count": 8,
     "metadata": {},
     "output_type": "execute_result"
    }
   ],
   "source": [
    "mae_valid = meanAbsoluteError(y_valid, y_pred)\n",
    "mae_valid"
   ]
  },
  {
   "cell_type": "markdown",
   "metadata": {},
   "source": [
    "## 評估類別預測任務的表現\n",
    "\n",
    "類別預測任務的表現評估以誤分類數來衡量 $y^{(valid)}$ 與 $\\hat{y}^{(valid)}$ 之間的差異，誤分類數愈多推論 $h$ 跟 $f$ 的相似度愈低，反之誤分類數愈少推論 $h$ 與 $f$ 的相似度愈高。分類器常使用的評估指標比迴歸模型為多，像是準確率（Accuracy）、精確率（Precision）、召回率（Recall）與 F1-score 等。這些評估指標乍看之下會讓我們眼花撩亂，但實際上只要能夠拆解正確分類 $y^{(valid)} = \\hat{y}^{(valid)}$ 與錯誤分類 $y^{(valid)} \\neq \\hat{y}^{(valid)}$ 的組成，就可以理解評估分類器指標的設計哲學。\n",
    "\n",
    "正確分類與錯誤分類各自都還能拆解成兩種情境：\n",
    "\n",
    "- 正確分類\n",
    "    - 真陰性（True negative, TN）：$y^{(valid)}=0$ 並且 $\\hat{y}^{(valid)}=0$\n",
    "    - 真陽性（True positive, TP）：$y^{(valid)}=1$ 並且 $\\hat{y}^{(valid)}=1$\n",
    "- 錯誤分類\n",
    "    - 偽陰性（False negative, FN）：$y^{(valid)}=1$ 並且 $\\hat{y}^{(valid)}=0$\n",
    "    - 偽陽性（False positive, FP）：$y^{(valid)}=0$ 並且 $\\hat{y}^{(valid)}=1$\n",
    "\n",
    "這四種情境能夠以一個被稱作混淆矩陣（Confusion matrix）的 $2 \\times 2$ 矩陣表達。\n",
    "\n",
    "||$\\hat{y}^{(valid)}=0$|$\\hat{y}^{(valid)}=1$|\n",
    "|---|---|---|\n",
    "|$y^{(valid)}=0$|真陰性（True negative, TN）|偽陽性（False positive, FP）|\n",
    "|$y^{(valid)}=1$|偽陰性（False negative, FN）|真陽性（True positive, TP）|\n",
    "\n",
    "前述眼花撩亂的評估指標，其實都能從組成混淆矩陣的四個象限衍生而得，使用 Scikit-Learn 定義好的 `confusion_matrix` 函式可以協助我們創建兩個目標向量之間正確分類、錯誤分類所組成的混淆矩陣。"
   ]
  },
  {
   "cell_type": "code",
   "execution_count": 9,
   "metadata": {},
   "outputs": [
    {
     "data": {
      "text/plain": [
       "array([[60, 16],\n",
       "       [20, 70]])"
      ]
     },
     "execution_count": 9,
     "metadata": {},
     "output_type": "execute_result"
    }
   ],
   "source": [
    "X = player_stats[['apg', 'rpg']].values.astype(float)\n",
    "pos_dict = {\n",
    "    0: 'G',\n",
    "    1: 'F'\n",
    "}\n",
    "pos = player_stats['pos'].values\n",
    "y = np.array([0 if p[0] == 'G' else 1 for p in pos])\n",
    "X_train, X_valid, y_train, y_valid = train_test_split(X, y, test_size=0.33, random_state=42)\n",
    "h = LogisticRegression()\n",
    "h.fit(X_train, y_train)\n",
    "y_pred = h.predict(X_valid)\n",
    "cm = confusion_matrix(y_valid, y_pred)\n",
    "cm"
   ]
  },
  {
   "cell_type": "markdown",
   "metadata": {},
   "source": [
    "亦可以自訂創建混淆矩陣的函式。"
   ]
  },
  {
   "cell_type": "code",
   "execution_count": 10,
   "metadata": {},
   "outputs": [],
   "source": [
    "def confusionMatrix(y_true, y_pred):\n",
    "    n_unique = np.unique(y_true).size\n",
    "    cm = np.zeros((n_unique, n_unique), dtype=int)\n",
    "    for i in range(n_unique):\n",
    "        for j in range(n_unique):\n",
    "            n_obs = np.sum(np.logical_and(y_true == i, y_pred == j))\n",
    "            cm[i, j] = n_obs\n",
    "    return cm"
   ]
  },
  {
   "cell_type": "code",
   "execution_count": 11,
   "metadata": {},
   "outputs": [
    {
     "data": {
      "text/plain": [
       "array([[60, 16],\n",
       "       [20, 70]])"
      ]
     },
     "execution_count": 11,
     "metadata": {},
     "output_type": "execute_result"
    }
   ],
   "source": [
    "cm = confusionMatrix(y_valid, y_pred)\n",
    "cm"
   ]
  },
  {
   "cell_type": "markdown",
   "metadata": {},
   "source": [
    "準確率（Accuracy）是類別預測任務最常用的評估指標，分子是正確分類的觀測值個數，即真陰性加真陽性；分母是四個象限的觀測值個數總和，即目標向量的長度，準確率愈高代表分類器的表現愈好、反之則代表分類器的表現愈差。\n",
    "\n",
    "\\begin{equation}\n",
    "Accuracy = \\frac{TN + TP}{TN + TP + FN + FP}\n",
    "\\end{equation}\n",
    "\n",
    "使用 Scikit-Learn 定義好的 `accuracy_score` 函式可以協助我們計算準確率。"
   ]
  },
  {
   "cell_type": "code",
   "execution_count": 12,
   "metadata": {},
   "outputs": [
    {
     "data": {
      "text/plain": [
       "0.7831325301204819"
      ]
     },
     "execution_count": 12,
     "metadata": {},
     "output_type": "execute_result"
    }
   ],
   "source": [
    "accuracy = accuracy_score(y_valid, y_pred)\n",
    "accuracy"
   ]
  },
  {
   "cell_type": "markdown",
   "metadata": {},
   "source": [
    "準確率的概念直觀，但是在一些狀況中並不這麼適合評估分類器的表現，像是陽性事件發生率極低的應用場景，例如罕見疾病或市場黑天鵝事件的預測任務。如果設計出一個樸素的分類器（Dummy classifier），它以目標向量中出現頻率最高的類別作為預測依據，如果以 1000 個觀測值中僅有 1 個陽性的情況舉例，準確率可以達到 0.999，是一個乍看之下非常漂亮的評估指標。"
   ]
  },
  {
   "cell_type": "code",
   "execution_count": 13,
   "metadata": {},
   "outputs": [
    {
     "data": {
      "text/plain": [
       "0.999"
      ]
     },
     "execution_count": 13,
     "metadata": {},
     "output_type": "execute_result"
    }
   ],
   "source": [
    "y_true = np.zeros(1000, dtype=int)\n",
    "y_true[-1] = 1\n",
    "y_pred = np.zeros(1000, dtype=int)\n",
    "accuracy = accuracy_score(y_true, y_pred)\n",
    "accuracy"
   ]
  },
  {
   "cell_type": "markdown",
   "metadata": {},
   "source": [
    "然而這個分類器對預測陽性事件發生率極低的任務卻是完全無用處，亦即使用準確率來評估並不適合。這時使用精確率（Precision）與召回率（Recall）來進行評估會更加適合。精確率的分子是真陽性、分母是真陽性加偽陽性，它的意涵是分類器在所有預測為陽性的觀測值中，正確預測的觀測值數為多少；召回率的分子是真陽性、分母是真陽性加偽陰性，它的意涵是分類器在所有陽性的觀測值中，正確預測的觀測值數為多少。\n",
    "\n",
    "\\begin{align}\n",
    "Precision = \\frac{TP}{TP + FP} \\\\\n",
    "Recall = \\frac{TP}{TP + FN}\n",
    "\\end{align}\n",
    "\n",
    "相較準確率，精確率與召回率更專注評估分類器對陽性事件的預測能力，兩個指標愈高，代表模型的表現愈好。精確率如果表現要好除了真陽性高，偽陽性亦要想辦法降低，而召回率同樣若表現要好除了真陽性高，偽陰性亦要想辦法降低，因此在選擇採用精確率與召回率時，常會延伸探討偽陽性或偽陰性所衍生的誤判成本。採用精確率代表的要盡可能降低偽陽性，這表示的是偽陽性的成本高，意味著是誤判為陽性事件的成本高（例如誤診而進行高風險的手術）；採用召回率代表的是要儘可能降低偽陰性，這表示的是偽陰性的成本高，意味著是誤判為陰性事件的成本高（例如誤診而導致超級傳播者沒有隔離而進入社區）。\n",
    "\n",
    "使用 Scikit-Learn 定義好的 `precision_score` 與 `recall_score` 函式可以協助我們計算精確率與召回率，這時可以看到樸素分類器在精確率和召回率都得到了最低的評估值。"
   ]
  },
  {
   "cell_type": "code",
   "execution_count": 14,
   "metadata": {},
   "outputs": [
    {
     "name": "stdout",
     "output_type": "stream",
     "text": [
      "0.0\n",
      "0.0\n"
     ]
    }
   ],
   "source": [
    "precision = precision_score(y_true, y_pred, zero_division=0)\n",
    "recall = recall_score(y_true, y_pred)\n",
    "print(precision)\n",
    "print(recall)"
   ]
  },
  {
   "cell_type": "markdown",
   "metadata": {},
   "source": [
    "評估分類模型的表現時可以同時將精確率與召回率納入考量，運用一個係數 $\\beta$ 加權兩個指標合成為一個稱為 F-score 的指標。\n",
    "\n",
    "\\begin{equation}\n",
    "F_{\\beta} = (1 + \\beta^2) \\cdot \\frac{precision \\cdot recall}{(\\beta^2 \\cdot precision) + recall}\n",
    "\\end{equation}\n",
    "\n",
    "$\\beta$ 係數的值可以表示對精確率或召回率的相對重視程度，如果偽陽性的成本遠高於偽陰性的成本，代表百分百重視精確率，這時代入 $\\beta = 0$，F-score 就會是精確率；如果偽陰性的成本遠高於偽陽性的成本，代表百分百重視召回率，這時代入 $\\beta = \\infty$，F-score 就會是召回率；如果偽陽性的成本和偽陰性的成本相當，代表兩個指標同等重要，這時代入 $\\beta = 1$，F-score 就被稱為 F1-score，指標愈高，代表模型的表現愈好。\n",
    "\n",
    "\\begin{equation}\n",
    "F_{1} = 2 \\cdot \\frac{precision \\cdot recall}{precision + recall}\n",
    "\\end{equation}"
   ]
  },
  {
   "cell_type": "markdown",
   "metadata": {},
   "source": [
    "使用 Scikit-Learn 定義好的 `f1_score` 函式可以協助我們計算 F1-score，同樣可以看到樸素分類器依然在 F1-score 獲得了最低的評估值。"
   ]
  },
  {
   "cell_type": "code",
   "execution_count": 15,
   "metadata": {},
   "outputs": [
    {
     "data": {
      "text/plain": [
       "0.0"
      ]
     },
     "execution_count": 15,
     "metadata": {},
     "output_type": "execute_result"
    }
   ],
   "source": [
    "f1 = f1_score(y_true, y_pred)\n",
    "f1"
   ]
  },
  {
   "cell_type": "markdown",
   "metadata": {},
   "source": [
    "## 自訂計算評估指標的類別 `ClfMetrics`\n",
    "\n",
    "我們亦可以根據混淆矩陣自訂分類器評估指標的類別。"
   ]
  },
  {
   "cell_type": "code",
   "execution_count": 16,
   "metadata": {},
   "outputs": [],
   "source": [
    "class ClfMetrics:\n",
    "    \"\"\"\n",
    "    This class calculates some of the metrics of classifier including accuracy, precision, recall, f1 according to confusion matrix.\n",
    "    Args:\n",
    "        y_true (ndarray): 1d-array for true target vector.\n",
    "        y_pred (ndarray): 1d-array for predicted target vector.\n",
    "    \"\"\"\n",
    "    def __init__(self, y_true, y_pred):\n",
    "        self._y_true = y_true\n",
    "        self._y_pred = y_pred\n",
    "    def confusion_matrix(self):\n",
    "        \"\"\"\n",
    "        This function returns the confusion matrix given true/predicted target vectors.\n",
    "        \"\"\"\n",
    "        n_unique = np.unique(self._y_true).size\n",
    "        cm = np.zeros((n_unique, n_unique), dtype=int)\n",
    "        for i in range(n_unique):\n",
    "            for j in range(n_unique):\n",
    "                n_obs = np.sum(np.logical_and(self._y_true == i, self._y_pred == j))\n",
    "                cm[i, j] = n_obs\n",
    "        self._tn = cm[0, 0]\n",
    "        self._tp = cm[1, 1]\n",
    "        self._fn = cm[0, 1]\n",
    "        self._fp = cm[1, 0]\n",
    "        return cm\n",
    "    def accuracy_score(self):\n",
    "        \"\"\"\n",
    "        This function returns the accuracy score given true/predicted target vectors.\n",
    "        \"\"\"\n",
    "        cm = self.confusion_matrix()\n",
    "        accuracy = (self._tn + self._tp) / np.sum(cm)\n",
    "        return accuracy\n",
    "    def precision_score(self):\n",
    "        \"\"\"\n",
    "        This function returns the precision score given true/predicted target vectors.\n",
    "        \"\"\"\n",
    "        precision = self._tp / (self._tp + self._fp)\n",
    "        return precision  \n",
    "    def recall_score(self):\n",
    "        \"\"\"\n",
    "        This function returns the recall score given true/predicted target vectors.\n",
    "        \"\"\"\n",
    "        recall = self._tp / (self._tp + self._fn)\n",
    "        return recall\n",
    "    def f1_score(self, beta=1):\n",
    "        \"\"\"\n",
    "        This function returns the f1 score given true/predicted target vectors.\n",
    "        Args:\n",
    "            beta (int, float): Can be used to generalize from f1 score to f score.\n",
    "        \"\"\"\n",
    "        precision = self.precision_score()\n",
    "        recall = self.recall_score()\n",
    "        f1 = (1 + beta**2)*precision*recall / ((beta**2 * precision) + recall)\n",
    "        return f1"
   ]
  },
  {
   "cell_type": "code",
   "execution_count": 17,
   "metadata": {},
   "outputs": [],
   "source": [
    "pos = player_stats['pos'].values\n",
    "y = np.array([0 if p[0] == 'G' else 1 for p in pos])\n",
    "X_train, X_valid, y_train, y_valid = train_test_split(X, y, test_size=0.33, random_state=42)\n",
    "h = LogisticRegression()\n",
    "h.fit(X_train, y_train)\n",
    "y_pred = h.predict(X_valid)"
   ]
  },
  {
   "cell_type": "code",
   "execution_count": 18,
   "metadata": {},
   "outputs": [
    {
     "data": {
      "text/plain": [
       "array([[60, 16],\n",
       "       [20, 70]])"
      ]
     },
     "execution_count": 18,
     "metadata": {},
     "output_type": "execute_result"
    }
   ],
   "source": [
    "# 混淆矩陣\n",
    "clf_metrics = ClfMetrics(y_valid, y_pred)\n",
    "clf_metrics.confusion_matrix()"
   ]
  },
  {
   "cell_type": "code",
   "execution_count": 19,
   "metadata": {},
   "outputs": [
    {
     "data": {
      "text/plain": [
       "0.7831325301204819"
      ]
     },
     "execution_count": 19,
     "metadata": {},
     "output_type": "execute_result"
    }
   ],
   "source": [
    "# 準確率\n",
    "clf_metrics.accuracy_score()"
   ]
  },
  {
   "cell_type": "code",
   "execution_count": 20,
   "metadata": {},
   "outputs": [
    {
     "data": {
      "text/plain": [
       "0.7777777777777778"
      ]
     },
     "execution_count": 20,
     "metadata": {},
     "output_type": "execute_result"
    }
   ],
   "source": [
    "# 精確率\n",
    "clf_metrics.precision_score()"
   ]
  },
  {
   "cell_type": "code",
   "execution_count": 21,
   "metadata": {},
   "outputs": [
    {
     "data": {
      "text/plain": [
       "0.813953488372093"
      ]
     },
     "execution_count": 21,
     "metadata": {},
     "output_type": "execute_result"
    }
   ],
   "source": [
    "# 召回率\n",
    "clf_metrics.recall_score()"
   ]
  },
  {
   "cell_type": "code",
   "execution_count": 22,
   "metadata": {},
   "outputs": [
    {
     "data": {
      "text/plain": [
       "0.7954545454545455"
      ]
     },
     "execution_count": 22,
     "metadata": {},
     "output_type": "execute_result"
    }
   ],
   "source": [
    "# F1-score\n",
    "clf_metrics.f1_score()"
   ]
  },
  {
   "cell_type": "markdown",
   "metadata": {},
   "source": [
    "## 誤差的來源\n",
    "\n",
    "在機器學習的訓練階段，我們透過比較訓練資料中的預測目標向量與實際目標向量之間的誤差，來作為尋找係數向量的依據；在機器學習的驗證階段，我們透過比較驗證資料中的預測目標向量與實際目標向量之間的誤差，來評估模型的表現；而最後在機器學習的測試階段，我們終究要面對在前兩個階段未碰觸、尚未實現、不具備目標值或標籤的測試資料，不論是透過實驗設計或者等待一段時間讓未知資料的數值或標籤實現，最終使得機器學習演算方法表現一翻兩瞪眼的是比較測試資料中預測目標向量與實際目標向量之間的誤差階段。\n",
    "\n",
    "數值預測任務的表現評估以均方誤差衡量，$m$ 代表觀測值筆數。\n",
    "\n",
    "\\begin{equation}\n",
    "MSE_{test} = \\frac{1}{m}\\sum_{i}{(y^{(test)}_i - \\hat{y_i}^{(test)})^2}\n",
    "\\end{equation}\n",
    "\n",
    "類別預測任務的表現評估以誤分類數衡量。\n",
    "\n",
    "\\begin{equation}\n",
    "Error_{test} = \\sum_{i} \\mid y^{(test)}_i \\neq \\hat{y_i}^{(test)} \\mid\n",
    "\\end{equation}\n",
    "\n",
    "一個訓練後的迴歸模型或分類器，其誤差來源可以大抵分為訓練誤差（Training error）與測試誤差（Test error），在已實現、具備目標值或標籤的訓練、驗證資料上表現良好，表示它的訓練誤差小；在尚未實現、不具備目標值或標籤的測試資料上表現良好，表示它的測試誤差小（又稱為泛化能力強），於是乎機器學習演算方法的目標是將訓練誤差以及測試誤差降低。不過在現實世界中，處於訓練與驗證階段時對於測試資料是一無所知的，又該如何在只能接觸到訓練與驗證資料時去降低測試誤差？仰賴訓練、驗證與測試資料的 i.i.d 假設，資料中每一筆觀測值彼此獨立（Independent）、訓練、驗證與測試資料來自同樣分佈（Identically distributed）的母體。如果假設不成立，用訓練資料產生 $h_w$ 來逼近 $f$ 的做法就顯得毫無意義了。因此我們可以將機器學習演算方法的目標修正簡化為：\n",
    "\n",
    "1. 減少訓練誤差\n",
    "2. 減少訓練誤差與測試誤差的間距\n",
    "\n",
    "為了減少訓練誤差，我們可以透過交叉驗證（Cross validation）的技巧消弭訓練與驗證資料切割所造成的誤差、增加梯度遞減的訓練次數或者增加特徵矩陣的欄位；而為了減少訓練誤差與測試誤差的間距，我們可以引用正規化（Regularization）的技巧。\n",
    "\n",
    "## 減少訓練誤差\n",
    "\n",
    "在前述章節中，我們在切割訓練與驗證資料時都有納入 `random_state=42` 這是為了固定某個特定的隨機狀態，如果沒有指定這個參數，每一次資料劃分為訓練和驗證的情況都會不同，這會影響係數向量 $w$ 求解、$h_w$ 的創建進而影響 $\\hat{y}$。如果希望避免某個隨機狀態劃分出了不夠均勻的訓練和驗證資料，可以使用交叉驗證的技巧，將資料拆分為 `k` 個不重複的子集合，進而可以在這些子集合上重複進行訓練和驗證，在第 `i` 次迭代中將第 `i` 個子集合當作驗證資料，其餘當作訓練資料，最後取平均值來評估誤差。\n",
    "\n",
    "使用 Scikit-Learn 定義好的 `KFold` 類別可以協助我們獲得交叉驗證時訓練與驗證資料的位置。"
   ]
  },
  {
   "cell_type": "code",
   "execution_count": 23,
   "metadata": {},
   "outputs": [
    {
     "name": "stdout",
     "output_type": "stream",
     "text": [
      "[55.07839694995417, 51.7810202008688, 50.50037007540896, 38.95499731929424, 55.212983938023825]\n",
      "50.30555369671\n"
     ]
    }
   ],
   "source": [
    "shuffled_index = player_stats.index.values.copy()\n",
    "np.random.seed(42)\n",
    "np.random.shuffle(shuffled_index)\n",
    "X = player_stats['heightMeters'].values.astype(float)[shuffled_index].reshape(-1, 1)\n",
    "y = player_stats['weightKilograms'].values.astype(float)[shuffled_index]\n",
    "kf = KFold(n_splits=5)\n",
    "h = LinearRegression()\n",
    "mse_scores = []\n",
    "for train_index, valid_index in kf.split(X):\n",
    "    X_train, X_valid = X[train_index], X[valid_index]\n",
    "    y_train, y_valid = y[train_index], y[valid_index]\n",
    "    h.fit(X_train, y_train)\n",
    "    y_pred = h.predict(X_valid)\n",
    "    mse = mean_squared_error(y_valid, y_pred)\n",
    "    mse_scores.append(mse)\n",
    "mean_mse_scores = np.mean(mse_scores)\n",
    "print(mse_scores)\n",
    "print(mean_mse_scores)"
   ]
  },
  {
   "cell_type": "code",
   "execution_count": 24,
   "metadata": {},
   "outputs": [
    {
     "data": {
      "image/png": "[encoded data removed]",
      "text/plain": [
       "<Figure size 432x288 with 1 Axes>"
      ]
     },
     "metadata": {
      "needs_background": "light"
     },
     "output_type": "display_data"
    }
   ],
   "source": [
    "fig= plt.figure()\n",
    "ax = plt.axes()\n",
    "ax.plot(mse_scores, marker='.', markersize=10)\n",
    "ax.axhline(mean_mse_scores, color='red', linestyle=\"--\")\n",
    "ax.set_title('Use average MSE in KFold cross validation')\n",
    "ax.set_xticks(range(5))\n",
    "plt.show()"
   ]
  },
  {
   "cell_type": "markdown",
   "metadata": {},
   "source": [
    "在梯度遞減開始前隨機初始化的 $w$ 的訓練誤差是高的，隨著訓練次數增加而漸漸減少，這在數值預測與類別預測任務中我們已經看過不少範例；而增加特徵矩陣的欄位可以使用 Scikit-Learn 定義好的 `PolynomialFeatures` 類別創建高次項觀察訓練誤差在不同 `degree` 下的訓練誤差，以迴歸模型為例，當訓練誤差很高的時候模型處於「配適不足」（Underfitting）的狀態，像是 `degree=0` 的時候。"
   ]
  },
  {
   "cell_type": "code",
   "execution_count": 25,
   "metadata": {},
   "outputs": [],
   "source": [
    "X = player_stats['heightMeters'].values.astype(float).reshape(-1, 1)\n",
    "X_plot = np.linspace(X.min() - 0.1, X.max().max() + 0.1).reshape(-1, 1)\n",
    "y = player_stats['weightKilograms'].values.astype(float)\n",
    "degrees = range(9)\n",
    "y_plots = []\n",
    "training_errors = []\n",
    "for d in degrees:\n",
    "    poly = PolynomialFeatures(d)\n",
    "    X_poly = poly.fit_transform(X)\n",
    "    X_train, X_valid, y_train, y_valid = train_test_split(X_poly, y, test_size=0.33, random_state=42)\n",
    "    h = LinearRegression()\n",
    "    h.fit(X_train, y_train)\n",
    "    y_pred = h.predict(X_train)\n",
    "    training_error = mean_squared_error(y_train, y_pred)\n",
    "    training_errors.append(training_error)\n",
    "    X_plot_poly = poly.fit_transform(X_plot)\n",
    "    y_pred = h.predict(X_plot_poly)\n",
    "    y_plots.append(y_pred)"
   ]
  },
  {
   "cell_type": "code",
   "execution_count": 26,
   "metadata": {},
   "outputs": [
    {
     "data": {
      "image/png": "[encoded data removed]",
      "text/plain": [
       "<Figure size 864x432 with 9 Axes>"
      ]
     },
     "metadata": {
      "needs_background": "light"
     },
     "output_type": "display_data"
    }
   ],
   "source": [
    "x = X.ravel()\n",
    "fig, axes = plt.subplots(3, 3, figsize=(12, 6), sharey=True)\n",
    "for k, d, te, y_p in zip(range(9), degrees, training_errors, y_plots):\n",
    "    i = k // 3\n",
    "    j = k % 3\n",
    "    x_p = X_plot.ravel()\n",
    "    axes[i, j].scatter(x, y, s=5, alpha=0.5)\n",
    "    axes[i, j].plot(x_p, y_p, color=\"red\")\n",
    "    axes[i, j].set_ylim(60, 150)\n",
    "    axes[i, j].set_title(\"Degree: {}\\nTraining Error: {:.4f}\".format(d, te))\n",
    "plt.tight_layout()\n",
    "plt.show()"
   ]
  },
  {
   "cell_type": "markdown",
   "metadata": {},
   "source": [
    "除了為特徵矩陣加入更多的變數，減少訓練誤差的方式還有超參數（Hyperparameter）調校、變換其他機器學習演算方法或者製造衍生變數（特徵工程）。"
   ]
  },
  {
   "cell_type": "markdown",
   "metadata": {},
   "source": [
    "## 減少訓練誤差與測試誤差的間距\n",
    "\n",
    "在試圖減少訓練誤差的過程，很有可能伴隨而來的是驗證或測試誤差的升高，這是因為模型對於訓練資料過於熟悉，而降低了它的泛化能力。例如跑者若是固定在平坦的操場訓練，在參與路跑時候很可能因為地形起伏而導致比賽表現不如訓練，這樣的狀態我們稱之為「過度配適」（Overfitting）。欲避免過度配適最直觀的解法就是減少特徵矩陣的變數，但這又會與我們原本希望減少訓練誤差的出發點相左，有沒有什麼辦法讓機器學習演算法保留多個變數的特徵，但又不會產生過度配飾呢？這時可以求助「正規化」（Regularization）。正規化技巧是透過使用一個參數 $\\lambda$ 在訓練過程中對係數向量壓抑，以數值預測任務為例，在原本的誤差函式 $J(w)$ 加上 $\\lambda w^Tw$ 抑制係數向量，又被稱為 L2 正規化。\n",
    "\n",
    "\\begin{equation}\n",
    "J(w) = \\frac{1}{m}(\\parallel Xw - y \\parallel^2 + \\lambda w^Tw)\n",
    "\\end{equation}\n",
    "\n",
    "接著求解梯度：$J(w)$ 關於 $w$ 的偏微分。\n",
    "\n",
    "\\begin{align}\n",
    "\\frac{\\partial J}{\\partial w} &= \\frac{1}{m}(\\frac{\\partial}{\\partial w}(\\parallel Xw - y\\parallel^2) + \\frac{\\partial}{\\partial w}\\lambda w^Tw) \\\\\n",
    "&= \\frac{1}{m}(\\frac{\\partial}{\\partial w}(Xw - y)^T(Xw-y) + \\frac{\\partial}{\\partial w}\\lambda w^Tw)\\\\\n",
    "&= \\frac{1}{m}(\\frac{\\partial}{\\partial w}(w^TX^TXw - w^TX^Ty - y^TXw + y^Ty) + \\frac{\\partial}{\\partial w}\\lambda w^Tw) \\\\\n",
    "&= \\frac{1}{m}(\\frac{\\partial}{\\partial w}(w^TX^TXw - (Xw)^Ty - (Xw)^Ty + y^Ty) + \\frac{\\partial}{\\partial w}\\lambda w^Tw)\\\\\n",
    "&= \\frac{1}{m}(\\frac{\\partial}{\\partial w}(w^TX^TXw - 2(Xw)^Ty + y^Ty) + \\frac{\\partial}{\\partial w}\\lambda w^Tw) \\\\\n",
    "&= \\frac{1}{m}(2X^TXw - 2X^Ty + 2\\lambda w) \\\\\n",
    "&= \\frac{2}{m}(X^TXw - X^Ty + \\lambda w) \\\\\n",
    "&= \\frac{2}{m}(X^T(Xw - y) + \\lambda w)) \\\\\n",
    "&= \\frac{2}{m}(X^T(\\hat{y} - y) + \\lambda w))\n",
    "\\end{align}\n",
    "\n",
    "就可以寫出具備 L2 正規化效果梯度遞減的式子。\n",
    "\n",
    "\\begin{gather}\n",
    "w := w - \\alpha \\frac{2}{m}(X^T(\\hat{y} - y) + \\lambda w)) \\\\\n",
    "w := (w - \\alpha \\frac{2}{m}\\lambda w) - \\alpha\\frac{2}{m}X^T(\\hat{y} - y) \\\\\n",
    "w := w(1 - \\alpha \\frac{2}{m}\\lambda) - \\alpha\\frac{2}{m}X^T(\\hat{y} - y)\n",
    "\\end{gather}\n",
    "\n",
    "$\\lambda$ 是由使用者決定的參數，當 $\\lambda = 0$ 時代表不抑制係數向量，沒有正規化效果；較大的 $\\lambda$ 會壓抑最適化係數向量的選擇，正規化效果大，藉此在配適不足與過度配適之間進行平衡，當正規化效果過大時，模型又會變得與配適不足的狀態相近。使用 Scikit-Learn 定義好的 `Ridge` 類別可以協助我們建構具備 L2 正規化效果的迴歸模型，正規化效果由 `alpha` 參數決定，愈大表示正規化效果愈強。"
   ]
  },
  {
   "cell_type": "code",
   "execution_count": 27,
   "metadata": {},
   "outputs": [],
   "source": [
    "X = player_stats['heightMeters'].values.astype(float).reshape(-1, 1)\n",
    "y = player_stats['weightKilograms'].values.astype(float)\n",
    "poly = PolynomialFeatures(9)\n",
    "X_plot = np.linspace(X.min() - 0.1, X.max().max() + 0.1).reshape(-1, 1)\n",
    "X_poly = poly.fit_transform(X)\n",
    "X_plot_poly = poly.fit_transform(X_plot)\n",
    "X_train, X_valid, y_train, y_valid = train_test_split(X_poly, y, test_size=0.33, random_state=42)\n",
    "alphas = [0, 1, 10, 1e3, 1e5, 1e6, 1e7, 1e8, 1e9]\n",
    "y_plots = []\n",
    "for alpha in alphas:\n",
    "    h = Ridge(alpha=alpha)\n",
    "    h.fit(X_train, y_train)\n",
    "    y_pred = h.predict(X_train)\n",
    "    y_pred = h.predict(X_plot_poly)\n",
    "    y_plots.append(y_pred)"
   ]
  },
  {
   "cell_type": "code",
   "execution_count": 28,
   "metadata": {},
   "outputs": [
    {
     "data": {
      "image/png": "[encoded data removed]",
      "text/plain": [
       "<Figure size 864x432 with 9 Axes>"
      ]
     },
     "metadata": {
      "needs_background": "light"
     },
     "output_type": "display_data"
    }
   ],
   "source": [
    "x = X.ravel()\n",
    "fig, axes = plt.subplots(3, 3, figsize=(12, 6), sharey=True)\n",
    "for k, alpha, y_p in zip(range(9), alphas, y_plots):\n",
    "    i = k // 3\n",
    "    j = k % 3\n",
    "    x_p = X_plot.ravel()\n",
    "    axes[i, j].scatter(x, y, s=5, alpha=0.5)\n",
    "    axes[i, j].plot(x_p, y_p, color=\"red\")\n",
    "    axes[i, j].set_ylim(60, 150)\n",
    "    axes[i, j].set_title(\"L2 Regularization: {:.0f}\".format(alpha))\n",
    "plt.tight_layout()\n",
    "plt.show()"
   ]
  },
  {
   "cell_type": "markdown",
   "metadata": {},
   "source": [
    "同樣在類別預測任務於原本的誤差函式 $J(w)$ 也能夠加上 $\\lambda w^Tw$ 抑制係數向量。\n",
    "\n",
    "\\begin{equation}\n",
    "J(w) = \\frac{1}{m}(-ylog(\\sigma(Xw)) - (1-y)log(1-\\sigma(Xw)) + \\lambda w^Tw)\n",
    "\\end{equation}\n",
    "\n",
    "接著求解梯度：$J(w)$ 關於 $w$ 的偏微分。\n",
    "\n",
    "\\begin{align}\n",
    "\\frac{\\partial J}{\\partial w} &= \\frac{1}{m}(-y(1-\\sigma(Xw))X - (1-y)(-\\sigma(Xw)X) + 2\\lambda w) \\\\\n",
    "&=\\frac{1}{m}(-X^Ty + y\\sigma(Xw)X + X^T\\sigma(Xw) - y\\sigma(Xw)X + 2\\lambda w) \\\\\n",
    "&=\\frac{1}{m}(-X^Ty + X^T\\sigma(Xw) + 2\\lambda w) \\\\\n",
    "&=\\frac{1}{m}(X^T(\\sigma(Xw) - y) + 2\\lambda w) \\\\\n",
    "&=\\frac{1}{m}(X^T(\\sigma(Xw) - y) + \\frac{1}{C}w) \\text{, where } C=\\frac{1}{2\\lambda}\n",
    "\\end{align}\n",
    "\n",
    "就可以寫出具備 L2 正規化效果梯度遞減的式子。\n",
    "\n",
    "\\begin{gather}\n",
    "w := w - \\alpha \\frac{1}{m}(X^T(\\sigma(Xw) - y) + \\frac{1}{C}w) \\text{, where } C=\\frac{1}{2\\lambda} \\\\\n",
    "w := w - \\alpha \\frac{1}{mC}w - \\alpha \\frac{1}{m}(X^T(\\sigma(Xw) - y)) \\\\\n",
    "w := w(1 - \\alpha \\frac{1}{mC}) - \\alpha \\frac{1}{m}(X^T(\\sigma(Xw) - y))\n",
    "\\end{gather}\n",
    "\n",
    "Scikit-Learn 的 `LogisticRegression` 類別中的參數 `C` 與 L2 正規化 $\\lambda$ 參數是倒數關係 $C=\\frac{1}{2\\lambda}$，當 `C` 愈大表示正規化效果愈低，反之 `C` 愈小表示正規化效果愈高，這也是為什麼在類別預測的任務章節中，為了和自訂類別 `LogitReg` 比較需要設定一個很大的 `C` 來讓正規化效果降到很低。"
   ]
  },
  {
   "cell_type": "markdown",
   "metadata": {},
   "source": [
    "## 延伸閱讀\n",
    "\n",
    "1. Machine Learning Basics. In: Ian Goodfellow ,Yoshua Bengio, and Aaron Courville, Deep Learning (https://www.amazon.com/Deep-Learning-Adaptive-Computation-Machine/dp/0262035618/)\n",
    "2. Training Models. In: Aurélien Géron, Hands-On Machine Learning with Scikit-Learn, Keras, and TensorFlow (https://www.amazon.com/Hands-Machine-Learning-Scikit-Learn-TensorFlow/dp/1492032646/)\n",
    "3. Best Practices for Model Evaluation and Hyperparameter Tuning. In: Sebastian Raschka, Vahid Mirjalili, Python Machine Learning (https://www.amazon.com/Python-Machine-Learning-scikit-learn-TensorFlow/dp/1789955750/)\n",
    "4. Confustion matrix (https://en.wikipedia.org/wiki/Confusion_matrix)\n",
    "5. Regularization (https://en.wikipedia.org/wiki/Regularization_(mathematics))"
   ]
  }
 ],
 "metadata": {
  "kernelspec": {
   "display_name": "Python Machine Learning",
   "language": "python",
   "name": "pyml"
  },
  "language_info": {
   "codemirror_mode": {
    "name": "ipython",
    "version": 3
   },
   "file_extension": ".py",
   "mimetype": "text/x-python",
   "name": "python",
   "nbconvert_exporter": "python",
   "pygments_lexer": "ipython3",
   "version": "3.6.8"
  }
 },
 "nbformat": 4,
 "nbformat_minor": 4
}
